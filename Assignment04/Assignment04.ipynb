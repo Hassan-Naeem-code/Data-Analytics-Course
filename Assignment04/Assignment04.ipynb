{
 "cells": [
  {
   "cell_type": "markdown",
   "id": "a15bba92-e996-403e-950b-815de4c73b04",
   "metadata": {},
   "source": [
    "### Assignment 04"
   ]
  },
  {
   "cell_type": "code",
   "execution_count": 9,
   "id": "553239b2-b3db-4216-8695-112d7b54e1d6",
   "metadata": {},
   "outputs": [
    {
     "name": "stdout",
     "output_type": "stream",
     "text": [
      "(1, 2, 3)\n",
      "[4, 5, 6]\n",
      "('apple', 'banana', 'cherry')\n",
      "[7, 8, 9]\n",
      "New Tuple:  (1, 2, 3, 7, 8, 9)\n"
     ]
    }
   ],
   "source": [
    "# Q1. my_tuple = ( (1, 2, 3), [4, 5, 6], (\"apple\", \"banana\", \"cherry\"), [7, 8, 9] )\n",
    "# Print all elements from my_tuple on a new line (using for loop)\n",
    "# Create a new tuple by concatenating the first and last elements of my_tuple\n",
    "\n",
    "my_tuple = ( (1, 2, 3), [4, 5, 6], (\"apple\", \"banana\", \"cherry\"), [7, 8, 9] )\n",
    "\n",
    "for key in my_tuple:\n",
    "    print(key);\n",
    "\n",
    "newTuple = my_tuple[0] + tuple(my_tuple[-1]);\n",
    "\n",
    "print(\"New Tuple: \", newTuple);"
   ]
  },
  {
   "cell_type": "code",
   "execution_count": 61,
   "id": "0e6a8745-5601-45ec-9ed2-31a5763a87fc",
   "metadata": {},
   "outputs": [
    {
     "name": "stdout",
     "output_type": "stream",
     "text": [
      "The Great Gatsby\n",
      "Rich dad poor dad\n",
      "Harry Potter\n",
      "Programming Is Easy\n",
      "{'The Great Gatsby': {'price': 10.99, 'quantity': 5}, 'Rich dad poor dad': {'price': 8.99, 'quantity': 8}, 'Harry Potter': {'price': 12.5, 'quantity': 2}, 'Programming Is Easy': {'price': 5.99, 'quantity': 10}}\n"
     ]
    }
   ],
   "source": [
    "# Q2. inventory = { \"The Great Gatsby\": {\"price\": 10.99, \"quantity\": 5}, \"Rich dad poor dad\": {\"price\":\n",
    "# 8.99, \"quantity\": 8}, \"Harry Potter\": {\"price\": 12.50, \"quantity\": 2}, }\n",
    "# Add a new book in inventory using method and get all book titles using method\n",
    "# Remove a book if it's out of stock\n",
    "\n",
    "inventory = { \"The Great Gatsby\": {\"price\": 10.99, \"quantity\": 5}, \"Rich dad poor dad\": {\"price\": 8.99, \"quantity\": 8}, \"Harry Potter\": {\"price\": 12.50, \"quantity\": 2}, }\n",
    "inventory.update({\"Programming Is Easy\": {\"price\": 5.99, \"quantity\": 10}});\n",
    "allBooksTitles = list(inventory.keys());\n",
    "\n",
    "for bookTitle in allBooksTitles:\n",
    "    print(bookTitle);\n",
    "\n",
    "\n",
    "bookOutOfStock = [key for key, value in inventory.items() if value[\"quantity\"] == 0]\n",
    "\n",
    "for book in bookOutOfStock:\n",
    "    inventory.pop(book)\n",
    "\n",
    "print(inventory);"
   ]
  },
  {
   "cell_type": "code",
   "execution_count": 65,
   "id": "92189ca3-4c2d-4670-8214-296a041f115d",
   "metadata": {},
   "outputs": [
    {
     "data": {
      "text/plain": [
       "{101: {'name': 'Laptop',\n",
       "  'category': 'Electronics',\n",
       "  'price': 1200,\n",
       "  'stock': 50},\n",
       " 102: {'name': 'Shirt', 'category': 'Apparel', 'price': 25, 'stock': 250},\n",
       " 103: {'name': 'Coffee Maker',\n",
       "  'category': 'Home Appliances',\n",
       "  'price': 80,\n",
       "  'stock': 30},\n",
       " 104: {'name': 'Smartphone',\n",
       "  'category': 'Electronics',\n",
       "  'price': 349,\n",
       "  'stock': 60}}"
      ]
     },
     "execution_count": 65,
     "metadata": {},
     "output_type": "execute_result"
    }
   ],
   "source": [
    "# Q3. An ecommerce store stores information about its products in a nested dictionary. The outer\n",
    "# dictionary uses product IDs as keys, and the inner dictionary stores product details like name,\n",
    "# category, price, and stock quantity.\n",
    "# products = { 101: {'name': 'Laptop', 'category': 'Electronics', 'price': 1200, 'stock': 50}, 102:\n",
    "# {'name': 'Shirt', 'category': 'Apparel', 'price': 25, 'stock': 200}, 103: {'name': 'Coffee Maker',\n",
    "# 'category': 'Home Appliances', 'price': 80, 'stock': 30} }\n",
    "# • Increase the stock of the 'Shirt' product (add 50 more units)\n",
    "# • Add a new product (e.g., 'Smartphone')\n",
    "\n",
    "products = {\n",
    "    101: {\"name\": \"Laptop\", \"category\": \"Electronics\", \"price\": 1200, \"stock\": 50},\n",
    "    102: {\"name\": \"Shirt\", \"category\": \"Apparel\", \"price\": 25, \"stock\": 200},\n",
    "    103: {\"name\": \"Coffee Maker\", \"category\": \"Home Appliances\", \"price\": 80, \"stock\": 30},\n",
    "};\n",
    "\n",
    "products[102]['stock'] += 50;\n",
    "\n",
    "newProductId = 104;\n",
    "products[newProductId] = {\n",
    "    \"name\": \"Smartphone\",\n",
    "    \"category\": \"Electronics\",\n",
    "    \"price\": 349,\n",
    "    \"stock\": 60,\n",
    "}\n",
    "products"
   ]
  },
  {
   "cell_type": "code",
   "execution_count": 67,
   "id": "e76243cb-b651-4430-8a73-e051de25d148",
   "metadata": {},
   "outputs": [
    {
     "data": {
      "text/plain": [
       "{'apple', 'banana', 'grape', 'orange'}"
      ]
     },
     "execution_count": 67,
     "metadata": {},
     "output_type": "execute_result"
    }
   ],
   "source": [
    "# Q4. You are given a list that contains some duplicate items. Remove the duplicates by converting the\n",
    "# list to a set.\n",
    "# shopping_list = ['apple', 'banana', 'apple', 'orange', 'banana', 'grape']\n",
    "\n",
    "shopping_list = ['apple', 'banana', 'apple', 'orange', 'banana', 'grape']\n",
    "\n",
    "shoppingListConvertedToSet = set(shopping_list);\n",
    "\n",
    "print(shoppingListConvertedToSet);\n",
    "\n",
    "\n"
   ]
  },
  {
   "cell_type": "code",
   "execution_count": 73,
   "id": "c66134e8-5e39-4c6a-85ff-589f41063e5c",
   "metadata": {},
   "outputs": [
    {
     "name": "stdout",
     "output_type": "stream",
     "text": [
      "Student registered in Course A {'Smith', 'Joseph'}\n",
      "Student registered in Single Course Only {'Maxwell', 'Trot', 'Smith', 'Joseph'}\n"
     ]
    }
   ],
   "source": [
    "# Q5. You are managing a list of students enrolled in two different courses. You need to perform\n",
    "# various set operations to understand the student enrollment. Task: Create two sets: one for students\n",
    "# in \"Course A\" and one for students in \"Course B\". Find the students who are in \"Course A\" but not in\n",
    "# \"Course B\" (difference). Find students who are only in one of the two courses (symmetric\n",
    "# difference). course_a = {\"John\", \"Alice\", \"Bob\", \"David\"} course_b = {\"Alice\", \"Eve\", \"Charlie\",\n",
    "# \"David\"}\n",
    "# • Find students who are in Course A but not in Course B (difference)\n",
    "# • Find students who are only in one of the two courses (symmetric difference)\n",
    "\n",
    "courseA = {\"Albert\", \"Smith\", \"Joseph\", \"Cummins\"};\n",
    "courseB = {\"Trot\", \"Albert\", \"Cummins\", \"Maxwell\"};\n",
    "\n",
    "studentInCourseA = courseA - courseB;\n",
    "singleRegisteredStudentInBothCourses = courseA ^ courseB;\n",
    "\n",
    "print(\"Student registered in Course A\",studentInCourseA);\n",
    "print(\"Student registered in Single Course Only\",singleRegisteredStudentInBothCourses);"
   ]
  },
  {
   "cell_type": "code",
   "execution_count": 77,
   "id": "c56dc626-9828-4820-aadf-09148f9b70a9",
   "metadata": {},
   "outputs": [
    {
     "name": "stdout",
     "output_type": "stream",
     "text": [
      "Sum of even numbers 600\n"
     ]
    }
   ],
   "source": [
    "# Q6. Write a Python program that calculates the sum of all even numbers between 1 and 50\n",
    "# (inclusive) using a for loop.\n",
    "# Hint\n",
    "# 1. Initialize a variable to hold the sum (e.g., sum_of_evens).\n",
    "# 2. Use a for loop to iterate through all numbers from 1 to 50.\n",
    "# 3. Inside the loop, check if the number is even.\n",
    "# 4. If the number is even, add it to sum_of_evens.\n",
    "# 5. After the loop finishes, print the total sum of all even numbers between 1 and 50.\n",
    "\n",
    "sum_of_evens = 0;\n",
    "\n",
    "for i in range(1,51):\n",
    "    if i % 2 == 0 :\n",
    "        sum_of_evens += i;\n",
    "\n",
    "print(\"Sum of even numbers\", sum_of_evens);\n"
   ]
  },
  {
   "cell_type": "code",
   "execution_count": 83,
   "id": "df345f2e-0301-4058-9043-e06ca550843d",
   "metadata": {},
   "outputs": [
    {
     "name": "stdin",
     "output_type": "stream",
     "text": [
      "Please enter a number to generate its table 3\n"
     ]
    },
    {
     "name": "stdout",
     "output_type": "stream",
     "text": [
      "3 x 1 = 3\n",
      "3 x 2 = 6\n",
      "3 x 3 = 9\n",
      "3 x 4 = 12\n",
      "3 x 5 = 15\n",
      "3 x 6 = 18\n",
      "3 x 7 = 21\n",
      "3 x 8 = 24\n",
      "3 x 9 = 27\n",
      "3 x 10 = 30\n"
     ]
    }
   ],
   "source": [
    "# Write a Python program that prints the multiplication table for a given number (between 1 and\n",
    "# 10) using a for loop.\n",
    "\n",
    "# Hint:\n",
    "# 1. Ask the user for a number between 1 and 10 .\n",
    "# 2. Use a for loop to iterate through the numbers from 1 to 10.\n",
    "# 3. For each iteration, calculate the product of the given number and the current number in the\n",
    "# loop.\n",
    "# 4. Print the result in a readable format (e.g., 5 x 1 = 5).\n",
    "# 5. Ensure the program works correctly for any number between 1 and 10.\n",
    "\n",
    "userInput = int(input(\"Please enter a number to generate its table\"));\n",
    "\n",
    "for i in range (1, 11):\n",
    "    print(f\"{userInput} x {i} = {userInput * i}\");"
   ]
  },
  {
   "cell_type": "code",
   "execution_count": 87,
   "id": "e64751b2-5d71-47de-812a-a838c1888378",
   "metadata": {},
   "outputs": [
    {
     "name": "stdin",
     "output_type": "stream",
     "text": [
      "Please enter a number to generate its table 3\n"
     ]
    },
    {
     "name": "stdout",
     "output_type": "stream",
     "text": [
      "3 ^ 1 = 3\n",
      "3 ^ 2 = 9\n",
      "3 ^ 3 = 27\n",
      "3 ^ 4 = 81\n",
      "3 ^ 5 = 243\n",
      "3 ^ 6 = 729\n",
      "3 ^ 7 = 2187\n",
      "3 ^ 8 = 6561\n",
      "3 ^ 9 = 19683\n",
      "3 ^ 10 = 59049\n"
     ]
    }
   ],
   "source": [
    "# Power of a Number\n",
    "# Write a Python program that takes a number and prints the powers of the number (starting from 1\n",
    "# to 10) using a while loop. For example, if the user inputs 3, the output should be:\n",
    "# 3^1 = 3\n",
    "# 3^2 = 9\n",
    "# 3^3 = 27\n",
    "# ... up to 3^10.\n",
    "\n",
    "userInput = int(input(\"Please enter a number to generate its table\"));\n",
    "\n",
    "for i in range (1, 11):\n",
    "    print(f\"{userInput} ^ {i} = {userInput ** i}\");"
   ]
  },
  {
   "cell_type": "code",
   "execution_count": 97,
   "id": "828bde94-7c35-425e-9c8c-83316ef20974",
   "metadata": {},
   "outputs": [
    {
     "name": "stdin",
     "output_type": "stream",
     "text": [
      "Please enter a number to generate its table 4\n"
     ]
    },
    {
     "name": "stdout",
     "output_type": "stream",
     "text": [
      "4\n",
      "3\n",
      "2\n",
      "1\n",
      "0\n",
      "Countdown finished!\n"
     ]
    }
   ],
   "source": [
    "# Problem Statement: Write a Python program that takes an integer input from the user and\n",
    "# counts down from that number to 0. The program should display the current number at each step\n",
    "# until it reaches 0, at which point it should print a message indicating the countdown is finished\n",
    "# Output Hint:\n",
    "# Enter a number to start the countdown: 3\n",
    "# 3\n",
    "# 2\n",
    "# 1\n",
    "# 0\n",
    "# Countdown finished!\n",
    "\n",
    "userInput = int(input(\"Please enter a number to generate its table\"));\n",
    "\n",
    "for i in range(userInput + 1):\n",
    "    print(userInput - i);\n",
    "\n",
    "print(\"Countdown finished!\");\n"
   ]
  },
  {
   "cell_type": "code",
   "execution_count": 99,
   "id": "ad5928bf-d143-4d56-969d-9016d361bcab",
   "metadata": {},
   "outputs": [
    {
     "name": "stdin",
     "output_type": "stream",
     "text": [
      "Please enter a number to generate its table 3\n"
     ]
    },
    {
     "name": "stdout",
     "output_type": "stream",
     "text": [
      "\n",
      "*\n",
      "**\n",
      "***\n"
     ]
    }
   ],
   "source": [
    "# Write a Python program that takes an integer input n from the user and generates a right-\n",
    "# angled triangle pattern of stars (*) with n rows. The first row should contain 1 star, the second row 2\n",
    "# stars, the third row 3 stars, and so on until the nth row.\n",
    "# Ensure the stars in each row are separated by spaces, and each row starts on a new line.\n",
    "# # Pattern:\n",
    "# *\n",
    "# **\n",
    "# ***\n",
    "# ****\n",
    "# *****\n",
    "\n",
    "userInput = int(input(\"Please enter a number to generate its table\"));\n",
    "\n",
    "for i in range(userInput + 1):\n",
    "    print(\"*\" * i);"
   ]
  }
 ],
 "metadata": {
  "kernelspec": {
   "display_name": "Python 3 (ipykernel)",
   "language": "python",
   "name": "python3"
  },
  "language_info": {
   "codemirror_mode": {
    "name": "ipython",
    "version": 3
   },
   "file_extension": ".py",
   "mimetype": "text/x-python",
   "name": "python",
   "nbconvert_exporter": "python",
   "pygments_lexer": "ipython3",
   "version": "3.12.7"
  }
 },
 "nbformat": 4,
 "nbformat_minor": 5
}
