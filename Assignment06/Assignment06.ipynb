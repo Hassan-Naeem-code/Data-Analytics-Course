{
 "cells": [
  {
   "cell_type": "markdown",
   "id": "370dc005-d380-4e67-bc1c-186ead5f08ce",
   "metadata": {},
   "source": [
    "### Assignment 06"
   ]
  },
  {
   "cell_type": "code",
   "execution_count": 29,
   "id": "df2cfaec-aa02-4d2c-8bfb-d8ab6869a974",
   "metadata": {},
   "outputs": [
    {
     "name": "stdout",
     "output_type": "stream",
     "text": [
      "Charging the electric vehicle\n",
      "Filling up the gasoline tank\n",
      "Driving the hybrid car\n"
     ]
    }
   ],
   "source": [
    "# Question 1:\n",
    "# In a transportation system, we have two classes:\n",
    "#  ElectricVehicle: A class that has a method charge() to charge the vehicle.\n",
    "#  GasolineVehicle: A class that has a method fuel_up() to refuel the vehicle.\n",
    "# Create a class HybridCar that inherits from both ElectricVehicle and GasolineVehicle. The HybridCar\n",
    "# class should have a method drive() that prints a message showing the car is being driven. Instantiate\n",
    "# an object of class HybridCar and demonstrate the usage of charge(), fuel_up(), and drive().\n",
    "# Expected Output:\n",
    "#  Charging the electric vehicle.\n",
    "#  Filling up the gasoline tank.\n",
    "#  Driving the hybrid car.\n",
    "\n",
    "class ElectricVehicle:\n",
    "\n",
    "    def charge(self):\n",
    "        print('Charging the electric vehicle');\n",
    "\n",
    "class GasolineVehicle:\n",
    "\n",
    "    def fuel_up(self):\n",
    "        print(\"Filling up the gasoline tank\");\n",
    "\n",
    "\n",
    "class HybridCar(ElectricVehicle, GasolineVehicle):\n",
    "\n",
    "    def __init__ (self):\n",
    "        super().charge();\n",
    "        super().fuel_up();\n",
    "    def drive(self):\n",
    "        print(\"Driving the hybrid car\");\n",
    "\n",
    "hybridCard = HybridCar();\n",
    "\n",
    "hybridCard.drive();"
   ]
  },
  {
   "cell_type": "code",
   "execution_count": 37,
   "id": "c73a14a5-a133-455a-a175-ef0f35cde679",
   "metadata": {},
   "outputs": [
    {
     "name": "stdout",
     "output_type": "stream",
     "text": [
      "Roar\n",
      "Meow\n"
     ]
    }
   ],
   "source": [
    "# Question 2:\n",
    "# Create a class Animal with a method make_sound(), which prints \"Animal makes a sound\". Then,\n",
    "# create two subclasses:\n",
    "#  Lion: Override the make_sound() method to print \"Roar\".\n",
    "#  Cat: Override the make_sound() method to print \"Meow\".\n",
    "# Demonstrate polymorphism by calling make_sound() on instances of Lion and Cat.\n",
    "\n",
    "class Animal:\n",
    "\n",
    "    def make_sound(self):\n",
    "        print(\"Animal makes a sound\");\n",
    "\n",
    "class Lion(Animal):\n",
    "\n",
    "    def make_sound(self):\n",
    "        print(\"Roar\");\n",
    "\n",
    "class Cat(Animal):\n",
    "\n",
    "    def make_sound(self):\n",
    "        print(\"Meow\");\n",
    "\n",
    "callLionClass = Lion();\n",
    "callCatClass = Cat();\n",
    "\n",
    "callLionClass.make_sound();\n",
    "callCatClass.make_sound();"
   ]
  },
  {
   "cell_type": "code",
   "execution_count": 41,
   "id": "8dc47100-352a-4999-8a77-62f9dea9736f",
   "metadata": {},
   "outputs": [
    {
     "name": "stdout",
     "output_type": "stream",
     "text": [
      "Turning on the light...\n",
      "Light is ON\n",
      "Turning off the light...\n",
      "Light is OFF\n"
     ]
    }
   ],
   "source": [
    "# Question 3:\n",
    "# Create an abstract class SmartHomeDevice with two abstract methods:\n",
    "#  turn_on() (to turn the device on)\n",
    "#  turn_off() (to turn the device off)\n",
    "# Then, create a Light class that inherits from SmartHomeDevice. Implement the methods turn_on()\n",
    "# and turn_off() for a light device. The turn_on() method should print \"Light is ON\", and the turn_off()\n",
    "# method should print \"Light is OFF\".\n",
    "# Write a Python program to control the light device in a smart home.\n",
    "# Expected Output:\n",
    "#  Turning on the light...\n",
    "#  Light is ON\n",
    "#  Turning off the light...\n",
    "#  Light is OFF\n",
    "\n",
    "class SmartHomeDevice:\n",
    "\n",
    "    def turn_on(self):\n",
    "        pass;\n",
    "    def turn_off(self):\n",
    "        pass;\n",
    "\n",
    "class Light(SmartHomeDevice):\n",
    "\n",
    "    def turn_on(self):\n",
    "        print(\"Light is ON\");\n",
    "    def turn_off(self):\n",
    "        print(\"Light is OFF\");\n",
    "\n",
    "callLight = Light();\n",
    "print(\"Turning on the light...\");\n",
    "callLight.turn_on();\n",
    "print(\"Turning off the light...\");\n",
    "callLight.turn_off();"
   ]
  },
  {
   "cell_type": "code",
   "execution_count": 49,
   "id": "05da7d3a-2e0a-47eb-bb0d-3971600898ed",
   "metadata": {},
   "outputs": [
    {
     "name": "stdout",
     "output_type": "stream",
     "text": [
      "Hello!\n",
      "Hello, John\n",
      "Good morning, John\n"
     ]
    }
   ],
   "source": [
    "# Question 4:\n",
    "# Create a class Greeting with a method greet() that can handle different numbers of arguments.\n",
    "#  If no argument is passed, it should print \"Hello!\".\n",
    "#  If one argument (a name) is passed, it should print \"Hello, !\".\n",
    "#  If two arguments (a name and a greeting) are passed, it should print the greeting with the\n",
    "# name (e.g., \"Good morning, !\").\n",
    "# Simulate method overloading using default arguments or variable-length arguments, and\n",
    "# demonstrate the polymorphic behavior by calling greet() with different numbers of arguments.\n",
    "# Expected Output:\n",
    "#  Hello!\n",
    "#  Hello, John!\n",
    "#  Good morning, John!\n",
    "\n",
    "class Greeting:\n",
    "\n",
    "    def greet(self, name = \"\", greeting = \"\"):\n",
    "        if name == '' and greeting == '':\n",
    "            print(\"Hello!\");\n",
    "        elif name != '' and greeting == '':\n",
    "            print(f'Hello, {name}');\n",
    "        else:\n",
    "            print(f'{greeting}, {name}');\n",
    "\n",
    "\n",
    "\n",
    "callGreeting = Greeting();\n",
    "callGreeting.greet();\n",
    "callGreeting.greet(\"John\");\n",
    "callGreeting.greet(\"John\", \"Good morning\");"
   ]
  },
  {
   "cell_type": "code",
   "execution_count": 85,
   "id": "c25ef96c-ac14-4efb-87e4-caf4628a64b3",
   "metadata": {},
   "outputs": [
    {
     "name": "stdout",
     "output_type": "stream",
     "text": [
      "Car Name: Toyota Camry\n",
      "Price Per Day: $50\n",
      "Rental Days: 5\n",
      "Total Rental Cost: $250\n"
     ]
    }
   ],
   "source": [
    "# Question 5:\n",
    "# Create a class CarRental to manage the rental of cars.\n",
    "#  The class should have private attributes for the car's name, price per day, and the number of\n",
    "# rental days.\n",
    "#  Create a method to calculate the total rental cost and a method to set the rental days.\n",
    "#  Use getter and setter methods for modifying and accessing the car's information.\n",
    "# Demonstrate encapsulation by creating an object of CarRental and calculating the total rental cost.\n",
    "# Expected Output:\n",
    "#  Car Name: Toyota Camry\n",
    "#  Price Per Day: $50\n",
    "#  Rental Days: 5\n",
    "#  Total Rental Cost: $250\n",
    "\n",
    "class CarRental:\n",
    "\n",
    "    def __init__(self, carName, carPricePerDay, noOfRentalDays):\n",
    "        self.__carName = carName;\n",
    "        self.__carPricePerDay = carPricePerDay;\n",
    "        self.__noOfRentalDays = noOfRentalDays;\n",
    "        \n",
    "    @property\n",
    "    def carName(self):\n",
    "        return self.__carName;\n",
    "    @carName.setter\n",
    "    def carName(self, carName):\n",
    "        self.__carName = carName;\n",
    "        \n",
    "    def calculate(self):\n",
    "        return self.__carPricePerDay * self.__noOfRentalDays;\n",
    "        \n",
    "    @property\n",
    "    def rentalDays(self):\n",
    "        return self.__noOfRentalDays;\n",
    "    @rentalDays.setter\n",
    "    def rentalDays(self, noOfRentalDays):\n",
    "        self.__noOfRentalDays = noOfRentalDays;\n",
    "        \n",
    "    @property\n",
    "    def carPricePerDay(self):\n",
    "        return self.__carPricePerDay;\n",
    "    @carPricePerDay.setter\n",
    "    def carPricePerDay(self, carPricePerDay):\n",
    "        self.__carPricePerDay = carPricePerDay;\n",
    "\n",
    "callCarRental = CarRental(\"Toyota Camry\", 50, 5);\n",
    "\n",
    "print(f\"Car Name: {callCarRental.carName}\")\n",
    "print(f\"Price Per Day: ${callCarRental.carPricePerDay}\")\n",
    "print(f\"Rental Days: {callCarRental.rentalDays}\")\n",
    "\n",
    "totalCost = callCarRental.calculate()\n",
    "print(f\"Total Rental Cost: ${totalCost}\")"
   ]
  },
  {
   "cell_type": "code",
   "execution_count": null,
   "id": "2dd94977-3eae-46b0-9eca-90f4e067ebcc",
   "metadata": {},
   "outputs": [],
   "source": []
  }
 ],
 "metadata": {
  "kernelspec": {
   "display_name": "Python 3 (ipykernel)",
   "language": "python",
   "name": "python3"
  },
  "language_info": {
   "codemirror_mode": {
    "name": "ipython",
    "version": 3
   },
   "file_extension": ".py",
   "mimetype": "text/x-python",
   "name": "python",
   "nbconvert_exporter": "python",
   "pygments_lexer": "ipython3",
   "version": "3.12.7"
  }
 },
 "nbformat": 4,
 "nbformat_minor": 5
}
