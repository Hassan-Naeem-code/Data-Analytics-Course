{
 "cells": [
  {
   "cell_type": "markdown",
   "id": "2214ddf3-99d8-4bbd-8569-94b9693c48f6",
   "metadata": {},
   "source": [
    "Assignment 11"
   ]
  },
  {
   "cell_type": "code",
   "execution_count": null,
   "id": "0af995dd-dc5e-4271-b502-a1ca9e066cfb",
   "metadata": {},
   "outputs": [],
   "source": [
    "import pandas as pd\n",
    "from datetime import datetime\n",
    "import uuid\n",
    "\n",
    "# Read the Excel file\n",
    "df = pd.read_excel(\"Global_Superstore2.xlsx\")"
   ]
  },
  {
   "cell_type": "code",
   "execution_count": null,
   "id": "db803402-393c-4e24-aaf4-97e6ef5f582c",
   "metadata": {},
   "outputs": [],
   "source": [
    "# Add Column to show \"No Discount\" if discount is zero otherwise \"Discount Availed\"\n",
    "df['Discount_Status'] = df['Discount'].apply(lambda x: \"No Discount\" if x == 0 else \"Discount Availed\")"
   ]
  },
  {
   "cell_type": "code",
   "execution_count": null,
   "id": "81f74b7c-e0d6-4fe2-afc3-0cb262bebefa",
   "metadata": {},
   "outputs": [],
   "source": [
    "# Add Column to show \"Demandable Product\" otherwise \"Least Demand\" if Quantity is > 5 and discount is zero\n",
    "# 2. Add Demand Status Column\n",
    "df['Demand_Status'] = df.apply(lambda x: \"Demandable Product\" if x['Quantity'] > 5 and x['Discount'] == 0 else \"Least Demand\", axis=1)"
   ]
  },
  {
   "cell_type": "code",
   "execution_count": null,
   "id": "26652c3a-48bf-4067-9056-9cc018177f08",
   "metadata": {},
   "outputs": [],
   "source": [
    "# Total Sales by Country Austraila\n",
    "aus_sales = df[df['Country'] == 'Australia']['Sales'].sum()"
   ]
  },
  {
   "cell_type": "code",
   "execution_count": null,
   "id": "f0398092-6fee-40ed-b4a6-5db232144644",
   "metadata": {},
   "outputs": [],
   "source": [
    "# Total Profit by Category Technology\n",
    "tech_profit = df[df['Category'] == 'Technology']['Profit'].sum()"
   ]
  },
  {
   "cell_type": "code",
   "execution_count": null,
   "id": "94263ca4-a089-41b3-9051-fe937509682a",
   "metadata": {},
   "outputs": [],
   "source": [
    "# Total Quantity Sold by Market US and Sub-Category Phone\n",
    "us_phones_qty = df[(df['Market'] == 'US') & (df['Sub-Category'] == 'Phones')]['Quantity'].sum()"
   ]
  },
  {
   "cell_type": "code",
   "execution_count": null,
   "id": "dd1c22eb-47ef-427b-8085-0973900e26e7",
   "metadata": {},
   "outputs": [],
   "source": [
    "# Total Shipping cost by sub category chair in region East\n",
    "chair_east_shipping = df[(df['Sub-Category'] == 'Chairs') & (df['Region'] == 'East')]['Shipping Cost'].sum()"
   ]
  },
  {
   "cell_type": "code",
   "execution_count": null,
   "id": "724211aa-5903-4018-9883-bb6e131233f1",
   "metadata": {},
   "outputs": [],
   "source": [
    "# Total Count by order priority \"Critical\"\n",
    "critical_count = df[df['Order Priority'] == 'Critical'].shape[0]"
   ]
  },
  {
   "cell_type": "code",
   "execution_count": null,
   "id": "3ccb81c8-43c7-4530-9cc5-f8b59818fdd2",
   "metadata": {},
   "outputs": [],
   "source": [
    "# Total Shipping cost count amount less than or equal to 100\n",
    "low_shipping_count = df[df['Shipping Cost'] <= 100].shape[0]"
   ]
  },
  {
   "cell_type": "code",
   "execution_count": null,
   "id": "2e768e2b-9859-44d2-94e2-1813ab3816f9",
   "metadata": {},
   "outputs": [],
   "source": [
    "# Total Count by sub category Binders sold in Brazil\n",
    "brazil_binders_count = df[(df['Sub-Category'] == 'Binders') & (df['Country'] == 'Brazil')].shape[0]"
   ]
  },
  {
   "cell_type": "code",
   "execution_count": null,
   "id": "6b167faa-837a-49da-ba9d-03f1f29a9e32",
   "metadata": {},
   "outputs": [],
   "source": [
    "# Total Sales Avergae by Country Newzealand\n",
    "nz_sales_avg = df[df['Country'] == 'New Zealand']['Sales'].mean()"
   ]
  },
  {
   "cell_type": "code",
   "execution_count": null,
   "id": "a6f8fd72-68cd-4e0e-91e2-c85f96813e26",
   "metadata": {},
   "outputs": [],
   "source": [
    "# Total Sales average by State California\n",
    "ca_sales_avg = df[df['State'] == 'California']['Sales'].mean()"
   ]
  },
  {
   "cell_type": "code",
   "execution_count": null,
   "id": "22ff2abf-ce91-45a1-99fe-a777a6b0523b",
   "metadata": {},
   "outputs": [],
   "source": [
    "# Extract Day, Month, Year from Order Date\n",
    "df['Order_Date'] = pd.to_datetime(df['Order Date'], format='%d-%m-%Y')\n",
    "df['Order_Day'] = df['Order_Date'].dt.day\n",
    "df['Order_Month'] = df['Order_Date'].dt.month\n",
    "df['Order_Year'] = df['Order_Date'].dt.year"
   ]
  },
  {
   "cell_type": "code",
   "execution_count": null,
   "id": "d5ede37c-7f17-4377-bcc7-8b1d01d3dbc9",
   "metadata": {},
   "outputs": [],
   "source": [
    "# Maximum sales amount by sub category Machines\n",
    "max_machines_sales = df[df['Sub-Category'] == 'Machines']['Sales'].max()"
   ]
  },
  {
   "cell_type": "code",
   "execution_count": null,
   "id": "705491ec-b6f3-481c-8c4d-dca8dbbf1c21",
   "metadata": {},
   "outputs": [],
   "source": [
    "# Calculate order delivery days (Ship Date - Order Date)\n",
    "df['Ship_Date'] = pd.to_datetime(df['Ship Date'], format='%d-%m-%Y')\n",
    "df['Delivery_Days'] = (df['Ship_Date'] - df['Order_Date']).dt.days"
   ]
  },
  {
   "cell_type": "code",
   "execution_count": null,
   "id": "2e9aee2c-6833-4ea7-81de-92a6aac25ade",
   "metadata": {},
   "outputs": [],
   "source": [
    "# Minimum Profit amount by Country India\n",
    "min_india_profit = df[df['Country'] == 'India']['Profit'].min()"
   ]
  },
  {
   "cell_type": "code",
   "execution_count": null,
   "id": "b1adbf0d-064c-497a-8374-3ad8859494e6",
   "metadata": {},
   "outputs": [],
   "source": [
    "# Maximum discount amount by country Germany\n",
    "max_germany_discount = df[df['Country'] == 'Germany']['Discount'].max()"
   ]
  },
  {
   "cell_type": "code",
   "execution_count": null,
   "id": "de658b8d-2463-41d9-be99-0b452c4777be",
   "metadata": {},
   "outputs": [],
   "source": [
    "# Average Sales amount by Sub category Art and City Istanbul\n",
    "art_istanbul_avg = df[(df['Sub-Category'] == 'Art') & (df['City'] == 'Istanbul')]['Sales'].mean()"
   ]
  },
  {
   "cell_type": "code",
   "execution_count": null,
   "id": "7c866857-2981-4317-9a34-8479ebc007c5",
   "metadata": {},
   "outputs": [],
   "source": [
    "# Find total sales in the year 2013\n",
    "sales_2013 = df[df['Order_Year'] == 2013]['Sales'].sum()"
   ]
  },
  {
   "cell_type": "code",
   "execution_count": null,
   "id": "80a48bcb-e34f-4b39-be3f-d6d8af81ea60",
   "metadata": {},
   "outputs": [],
   "source": [
    "# Show Loss if profit is less than zero otherwise Profit\n",
    "df['Profit_Status'] = df['Profit'].apply(lambda x: \"Loss\" if x < 0 else \"Profit\")"
   ]
  },
  {
   "cell_type": "code",
   "execution_count": null,
   "id": "154a46b1-9c2a-487b-b91e-d53cc609d4f6",
   "metadata": {},
   "outputs": [],
   "source": [
    "# Add Column Name Category Code, if technology then show \"T\", furniture \"F\", Office Supplies \"OS\"\n",
    "def get_category_code(category):\n",
    "    if category == 'Technology':\n",
    "        return 'T'\n",
    "    elif category == 'Furniture':\n",
    "        return 'F'\n",
    "    else:\n",
    "        return 'OS'\n",
    "\n",
    "df['Category_Code'] = df['Category'].apply(get_category_code)"
   ]
  },
  {
   "cell_type": "code",
   "execution_count": 3,
   "id": "59e26759-0788-4fc5-bd0b-3736b3954752",
   "metadata": {},
   "outputs": [
    {
     "name": "stdout",
     "output_type": "stream",
     "text": [
      "Processed data saved to Final_Global_Superstore.xlsx\n"
     ]
    }
   ],
   "source": [
    "# Save results to a new Excel file\n",
    "output_file = 'Final_Global_Superstore.xlsx'\n",
    "with pd.ExcelWriter(output_file) as writer:\n",
    "    df.to_excel(writer, sheet_name='Final', index=False)\n",
    "    \n",
    "    # Create a summary sheet with calculated metrics\n",
    "    summary_data = {\n",
    "        'Metric': [\n",
    "            'Total Sales Australia',\n",
    "            'Total Profit Technology',\n",
    "            'Total Quantity US Phones',\n",
    "            'Total Shipping Chairs East',\n",
    "            'Critical Order Count',\n",
    "            'Low Shipping Count (<=100)',\n",
    "            'Brazil Binders Count',\n",
    "            'New Zealand Sales Average',\n",
    "            'California Sales Average',\n",
    "            'Max Machines Sales',\n",
    "            'Min India Profit',\n",
    "            'Max Germany Discount',\n",
    "            'Art Istanbul Sales Average',\n",
    "            'Total Sales 2013'\n",
    "        ],\n",
    "        'Value': [\n",
    "            aus_sales,\n",
    "            tech_profit,\n",
    "            us_phones_qty,\n",
    "            chair_east_shipping,\n",
    "            critical_count,\n",
    "            low_shipping_count,\n",
    "            brazil_binders_count,\n",
    "            nz_sales_avg,\n",
    "            ca_sales_avg,\n",
    "            max_machines_sales,\n",
    "            min_india_profit,\n",
    "            max_germany_discount,\n",
    "            art_istanbul_avg,\n",
    "            sales_2013\n",
    "        ]\n",
    "    }\n",
    "    summary_df = pd.DataFrame(summary_data)\n",
    "    summary_df.to_excel(writer, sheet_name='Summary', index=False)\n",
    "\n",
    "print(f\"Processed data saved to {output_file}\")"
   ]
  }
 ],
 "metadata": {
  "kernelspec": {
   "display_name": "Python 3 (ipykernel)",
   "language": "python",
   "name": "python3"
  },
  "language_info": {
   "codemirror_mode": {
    "name": "ipython",
    "version": 3
   },
   "file_extension": ".py",
   "mimetype": "text/x-python",
   "name": "python",
   "nbconvert_exporter": "python",
   "pygments_lexer": "ipython3",
   "version": "3.12.7"
  }
 },
 "nbformat": 4,
 "nbformat_minor": 5
}
