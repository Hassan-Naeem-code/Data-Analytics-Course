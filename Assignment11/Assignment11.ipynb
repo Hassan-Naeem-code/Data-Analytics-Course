{
 "cells": [
  {
   "cell_type": "markdown",
   "id": "2214ddf3-99d8-4bbd-8569-94b9693c48f6",
   "metadata": {},
   "source": [
    "Assignment 11"
   ]
  },
  {
   "cell_type": "code",
   "execution_count": null,
   "id": "db803402-393c-4e24-aaf4-97e6ef5f582c",
   "metadata": {},
   "outputs": [],
   "source": [
    "# Add Column to show \"No Discount\" if discount is zero otherwise \"Discount Availed\""
   ]
  },
  {
   "cell_type": "code",
   "execution_count": null,
   "id": "81f74b7c-e0d6-4fe2-afc3-0cb262bebefa",
   "metadata": {},
   "outputs": [],
   "source": [
    "# Add Column to show \"Demandable Product\" otherwise \"Least Demand\" if Quantity is > 5 and discount is zero"
   ]
  },
  {
   "cell_type": "code",
   "execution_count": null,
   "id": "26652c3a-48bf-4067-9056-9cc018177f08",
   "metadata": {},
   "outputs": [],
   "source": [
    "# Total Sales by Country Austraila"
   ]
  },
  {
   "cell_type": "code",
   "execution_count": null,
   "id": "f0398092-6fee-40ed-b4a6-5db232144644",
   "metadata": {},
   "outputs": [],
   "source": [
    "# Total Profit by Category Technology"
   ]
  },
  {
   "cell_type": "code",
   "execution_count": null,
   "id": "94263ca4-a089-41b3-9051-fe937509682a",
   "metadata": {},
   "outputs": [],
   "source": [
    "# Total Quantity Sold by Market US and Sub-Category Phone"
   ]
  },
  {
   "cell_type": "code",
   "execution_count": null,
   "id": "dd1c22eb-47ef-427b-8085-0973900e26e7",
   "metadata": {},
   "outputs": [],
   "source": [
    "# Total Shipping cost by sub category chair in region East"
   ]
  },
  {
   "cell_type": "code",
   "execution_count": null,
   "id": "724211aa-5903-4018-9883-bb6e131233f1",
   "metadata": {},
   "outputs": [],
   "source": [
    "# Total Count by order priority \"Critical\""
   ]
  },
  {
   "cell_type": "code",
   "execution_count": null,
   "id": "3ccb81c8-43c7-4530-9cc5-f8b59818fdd2",
   "metadata": {},
   "outputs": [],
   "source": [
    "# Total Shipping cost count amount less than or equal to 100"
   ]
  },
  {
   "cell_type": "code",
   "execution_count": null,
   "id": "2e768e2b-9859-44d2-94e2-1813ab3816f9",
   "metadata": {},
   "outputs": [],
   "source": [
    "# Total Count by sub category Binders sold in Brazil"
   ]
  },
  {
   "cell_type": "code",
   "execution_count": null,
   "id": "6b167faa-837a-49da-ba9d-03f1f29a9e32",
   "metadata": {},
   "outputs": [],
   "source": [
    "# Total Sales Avergae by Country Newzealand"
   ]
  },
  {
   "cell_type": "code",
   "execution_count": null,
   "id": "a6f8fd72-68cd-4e0e-91e2-c85f96813e26",
   "metadata": {},
   "outputs": [],
   "source": [
    "# Total Sales average by State California"
   ]
  },
  {
   "cell_type": "code",
   "execution_count": null,
   "id": "22ff2abf-ce91-45a1-99fe-a777a6b0523b",
   "metadata": {},
   "outputs": [],
   "source": [
    "# Extract Day, Month, Year from Order Date"
   ]
  },
  {
   "cell_type": "code",
   "execution_count": null,
   "id": "d5ede37c-7f17-4377-bcc7-8b1d01d3dbc9",
   "metadata": {},
   "outputs": [],
   "source": [
    "# Maximum sales amount by sub category Machines"
   ]
  },
  {
   "cell_type": "code",
   "execution_count": null,
   "id": "705491ec-b6f3-481c-8c4d-dca8dbbf1c21",
   "metadata": {},
   "outputs": [],
   "source": [
    "# Calculate order delivery days (Ship Date - Order Date)"
   ]
  },
  {
   "cell_type": "code",
   "execution_count": null,
   "id": "2e9aee2c-6833-4ea7-81de-92a6aac25ade",
   "metadata": {},
   "outputs": [],
   "source": [
    "# Minimum Profit amount by Country India"
   ]
  },
  {
   "cell_type": "code",
   "execution_count": null,
   "id": "b1adbf0d-064c-497a-8374-3ad8859494e6",
   "metadata": {},
   "outputs": [],
   "source": [
    "# Maximum discount amount by country Germany"
   ]
  },
  {
   "cell_type": "code",
   "execution_count": null,
   "id": "de658b8d-2463-41d9-be99-0b452c4777be",
   "metadata": {},
   "outputs": [],
   "source": [
    "# Average Sales amount by Sub category Art and City Istanbul"
   ]
  },
  {
   "cell_type": "code",
   "execution_count": null,
   "id": "7c866857-2981-4317-9a34-8479ebc007c5",
   "metadata": {},
   "outputs": [],
   "source": [
    "# Find total sales in the year 2013"
   ]
  },
  {
   "cell_type": "code",
   "execution_count": null,
   "id": "80a48bcb-e34f-4b39-be3f-d6d8af81ea60",
   "metadata": {},
   "outputs": [],
   "source": [
    "# Show Loss if profit is less than zero otherwise Profit"
   ]
  },
  {
   "cell_type": "code",
   "execution_count": null,
   "id": "154a46b1-9c2a-487b-b91e-d53cc609d4f6",
   "metadata": {},
   "outputs": [],
   "source": [
    "# Add Column Name Category Code, if technology then show \"T\", furniture \"F\", Office Supplies \"OS\""
   ]
  }
 ],
 "metadata": {
  "kernelspec": {
   "display_name": "Python 3 (ipykernel)",
   "language": "python",
   "name": "python3"
  },
  "language_info": {
   "codemirror_mode": {
    "name": "ipython",
    "version": 3
   },
   "file_extension": ".py",
   "mimetype": "text/x-python",
   "name": "python",
   "nbconvert_exporter": "python",
   "pygments_lexer": "ipython3",
   "version": "3.12.7"
  }
 },
 "nbformat": 4,
 "nbformat_minor": 5
}
