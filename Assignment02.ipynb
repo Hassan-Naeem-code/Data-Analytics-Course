{
 "cells": [
  {
   "cell_type": "markdown",
   "id": "31bfc578-a910-442a-a741-7ed0019d7bc9",
   "metadata": {},
   "source": [
    "### Assignment 02"
   ]
  },
  {
   "cell_type": "code",
   "execution_count": 23,
   "id": "42b49fd8-44a9-4d67-a917-b15cabdec7d4",
   "metadata": {},
   "outputs": [
    {
     "name": "stdin",
     "output_type": "stream",
     "text": [
      "Please enter your age:  21\n"
     ]
    },
    {
     "name": "stdout",
     "output_type": "stream",
     "text": [
      "Adult\n"
     ]
    },
    {
     "name": "stdin",
     "output_type": "stream",
     "text": [
      "Enter membership status regular\n",
      "Enter purchase amount 650\n"
     ]
    },
    {
     "name": "stdout",
     "output_type": "stream",
     "text": [
      "Not eligible for discount\n"
     ]
    },
    {
     "name": "stdin",
     "output_type": "stream",
     "text": [
      "Enter your age:  15\n",
      "Enter your citizenship status:  no\n"
     ]
    },
    {
     "name": "stdout",
     "output_type": "stream",
     "text": [
      "Not eligible to vote\n"
     ]
    }
   ],
   "source": [
    "# Question 1: Age Group Classification\n",
    "# Write a Python program that takes the age of a person as input and classifies them into one of the\n",
    "# following age groups:\n",
    "# Child if the age is between 0 and 12 (inclusive).\n",
    "# Teenager if the age is between 13 and 19 (inclusive).\n",
    "# Adult if the age is between 20 and 64 (inclusive).\n",
    "# Senior if the age is 65 or older.\n",
    "\n",
    "userAge = int(input(\"Please enter your age: \"));\n",
    "\n",
    "if userAge <= 12:\n",
    "    print(\"Child\");\n",
    "elif userAge >= 13 and userAge <= 19:\n",
    "    print(\"Teenager\");\n",
    "elif userAge >= 20 and userAge <= 64:\n",
    "    print(\"Adult\");\n",
    "elif userAge >= 65:\n",
    "    print(\"Senior\");\n",
    "else:\n",
    "    print(\"Age is not considerable\");"
   ]
  },
  {
   "cell_type": "code",
   "execution_count": null,
   "id": "574b546e-0228-4ea0-a297-8a179f12d728",
   "metadata": {},
   "outputs": [],
   "source": [
    "# Question 2: Checking for Eligibility for Discount\n",
    "# Write a Python program that determines if a customer is eligible for a discount. The program should\n",
    "# take the customer's membership status and purchase amount as input and check the following\n",
    "# conditions:\n",
    "# The customer is a \"premium\" member and the purchase amount is greater than or equal to 1000.\n",
    "# The customer is a \"regular\" member and the purchase amount is greater than or equal to 2000.\n",
    "# If the customer meets either of the above conditions, print \"Eligible for discount\", otherwise print\n",
    "# \"Not eligible for discount\".\n",
    "\n",
    "membershipStatus = input(\"Enter membership status\");\n",
    "purchaseAmount = float(input(\"Enter purchase amount\"));\n",
    "\n",
    "if membershipStatus == \"premium\" and purchaseAmount >= 1000:\n",
    "    print(\"Eligible for discount\");\n",
    "elif membershipStatus == \"regular\" and purchaseAmount >= 2000:\n",
    "    print(\"Eligible for discount\");\n",
    "else:\n",
    "    print(\"Not eligible for discount\");"
   ]
  },
  {
   "cell_type": "code",
   "execution_count": 27,
   "id": "91a10dfa-22dc-46eb-ac24-f24ad343c4cd",
   "metadata": {},
   "outputs": [
    {
     "name": "stdin",
     "output_type": "stream",
     "text": [
      "Enter your age:  15\n",
      "Enter your citizenship status:  citizen\n"
     ]
    },
    {
     "name": "stdout",
     "output_type": "stream",
     "text": [
      "Not eligible to vote\n"
     ]
    }
   ],
   "source": [
    "# Question 3: Voting Eligibility Check\n",
    "# Write a Python program that checks if a person is eligible to vote based on their age and citizenship\n",
    "# status. The program should take the following inputs:\n",
    "# Age (an integer).\n",
    "# Citizenship status (a string: either \"citizen\" or \"non-citizen\").\n",
    "\n",
    "# The eligibility conditions are:\n",
    "# The person must be at least 18 years old and a \"citizen\" to be eligible to vote.\n",
    "# Alternatively, the person can be at least 16 years old and a \"citizen\" of a special region where voting is\n",
    "# allowed from age 16.\n",
    "# If the person meets either of the conditions, print \"Eligible to vote\", otherwise print \"Not eligible to\n",
    "# vote\".\n",
    "\n",
    "voterAge = int(input(\"Enter your age: \"));\n",
    "citizenShipStatus = input(\"Enter your citizenship status: \");\n",
    "\n",
    "if citizenShipStatus.lower() == \"citizen\":\n",
    "    if voterAge >= 18:\n",
    "        print(\"Eligible to vote\");\n",
    "    if voterAge >= 16:\n",
    "        isCitizenOfASpecialRegion = input(\"Are u a citizen of a specific region which allow to vote below 18 and greater than 16? (yes/no):\");\n",
    "        if isCitizenOfASpecialRegion.lower() == \"yes\":\n",
    "            print(\"Eligible to vote\");\n",
    "        else:\n",
    "            print(\"Not eligible to vote\");\n",
    "    else:\n",
    "        print(\"Not eligible to vote\");\n",
    "else:\n",
    "    print(\"Not eligible to vote\");"
   ]
  },
  {
   "cell_type": "code",
   "execution_count": 31,
   "id": "4f8a1fde-5653-4e75-bb40-0ed6a84b6d20",
   "metadata": {},
   "outputs": [
    {
     "name": "stdin",
     "output_type": "stream",
     "text": [
      "Enter performance rating excellent\n",
      "Enter year of service 5\n"
     ]
    },
    {
     "name": "stdout",
     "output_type": "stream",
     "text": [
      "Eligible for bonus\n"
     ]
    }
   ],
   "source": [
    "# Question 4: Employee Salary Bonus Eligibility\n",
    "# Write a Python program that determines if an employee is eligible for a salary bonus based on the\n",
    "# following conditions:\n",
    "# The employee's performance rating is \"Excellent\" and their years of service are greater than or equal\n",
    "# to 5 years.\n",
    "# The employee's performance rating is \"Good\" and their years of service are greater than or equal to\n",
    "# 10 years.\n",
    "# The employee's performance rating is \"Satisfactory\" or their years of service are greater than or\n",
    "# equal to 15 years.\n",
    "# The employee is not eligible for a bonus if neither of these conditions is met.\n",
    "# The program should print one of the following:\n",
    "# \"Eligible for bonus\" if the employee meets any of the criteria.\n",
    "# \"Not eligible for bonus\" if none of the conditions apply.\n",
    "\n",
    "employeePerformanceRating = input(\"Enter performance rating\");\n",
    "employeeYearOfService = int(input(\"Enter year of service\"));\n",
    "\n",
    "if employeePerformanceRating.lower() == \"excellent\" and employeeYearOfService >= 5:\n",
    "    print(\"Eligible for bonus\");\n",
    "elif employeePerformanceRating.lower() == \"good\" and employeeYearOfService >= 10:\n",
    "    print(\"Eligible for bonus\");\n",
    "elif employeePerformanceRating.lower() == \"satisfactory\" and employeeYearOfService >= 15:\n",
    "    print(\"Eligible for bonus\");\n",
    "else:\n",
    "    print(\"Not eligible for bonus\");"
   ]
  },
  {
   "cell_type": "code",
   "execution_count": 49,
   "id": "d6cdc0d1-f83c-47e3-9a1f-de537bdfb718",
   "metadata": {},
   "outputs": [
    {
     "name": "stdout",
     "output_type": "stream",
     "text": [
      "Current text:  I'm learning Python programming\n",
      "Replacing text space with underscroes in current text:  I'm_learning_Python_programming\n",
      "Underscroes in current text:  3\n",
      "First underscroe in current text:  3\n"
     ]
    }
   ],
   "source": [
    "# Question 5. Write a program that replaces spaces with underscores, counts how many underscores are\n",
    "# there, and finds the position of the first underscore.\n",
    "# Use text: \"I'm learning Python programming\"?\n",
    "\n",
    "text = \"I'm learning Python programming\";\n",
    "replacingSpaceWithUnderScore = text.replace(\" \",\"_\");\n",
    "countUnderScoresInTextString = replacingSpaceWithUnderScore.count(\"_\");\n",
    "findFirstUnderScorePlaceInText = replacingSpaceWithUnderScore.find(\"_\");\n",
    "print(\"Current text: \", text);\n",
    "print(\"Replacing text space with underscroes in current text: \", replacingSpaceWithUnderScore);\n",
    "print(\"Underscroes in current text: \", countUnderScoresInTextString);\n",
    "print(\"First underscroe in current text: \", findFirstUnderScorePlaceInText);"
   ]
  },
  {
   "cell_type": "code",
   "execution_count": 51,
   "id": "4ae27cb5-392b-422d-b330-fbe743dc6c0e",
   "metadata": {},
   "outputs": [
    {
     "name": "stdin",
     "output_type": "stream",
     "text": [
      "Enter a string: abcdef\n"
     ]
    },
    {
     "name": "stdout",
     "output_type": "stream",
     "text": [
      "All characters of the string except last 3: fc\n",
      "Every second character of the string: ace\n",
      "Reverse string using slicing: fedcba\n"
     ]
    }
   ],
   "source": [
    "# Question 6:\n",
    "# Write a Python program that:\n",
    "# Takes a string as input.\n",
    "# Prints all characters of the string except the last 3 using slicing.\n",
    "# Prints every second character of the string using slicing.\n",
    "# Prints the string in reverse using slicing\n",
    "\n",
    "userInput = input(\"Enter a string:\");\n",
    "\n",
    "print(\"All characters of the string except last 3:\", userInput[::-3]);\n",
    "print(\"Every second character of the string:\", userInput[::2]);\n",
    "print(\"Reverse string using slicing:\", userInput[::-1]);"
   ]
  },
  {
   "cell_type": "code",
   "execution_count": 59,
   "id": "5809b54e-77f2-4f77-910b-6687eb5ddb3a",
   "metadata": {},
   "outputs": [
    {
     "name": "stdout",
     "output_type": "stream",
     "text": [
      "Original Text: Hello World, We are learning Python\n",
      "Reversed Text: Python learning are We World, Hello\n"
     ]
    }
   ],
   "source": [
    "# Question 7. Given a sentence, you need to reverse the order of the words in the sentence while\n",
    "# preserving their original capitalization and spaces.\n",
    "# Use text: \"Hello World, We are learning Python\"\n",
    "\n",
    "currentText = \"Hello World, We are learning Python\"\n",
    "splittingTheWordsFromTheSentenceToFormAnArray = currentText.split()\n",
    "reversingTheArrayOfString = words[::-1]\n",
    "reversedSentencesAfterTransformation = ' '.join(reversingTheArrayOfString)\n",
    "print(\"Original Text:\", currentText)\n",
    "print(\"Reversed Text:\", reversedSentencesAfterTransformation)"
   ]
  },
  {
   "cell_type": "code",
   "execution_count": 85,
   "id": "81378b75-9bf6-45e0-9503-dfd7d54e2d3c",
   "metadata": {},
   "outputs": [
    {
     "name": "stdout",
     "output_type": "stream",
     "text": [
      "Numbers: 12345\n"
     ]
    }
   ],
   "source": [
    "# Question 8. You have a product code that follows the format \"SKU-12345-XYZ\". You need to:\n",
    "# Remove the \"SKU-\" and the \"-XYZ\" from the product code. Extract and return the number\n",
    "\n",
    "skuText = \"SKU-12345-XYZ\";\n",
    "print(\"Numbers:\", skuText[4:9]);"
   ]
  },
  {
   "cell_type": "code",
   "execution_count": 113,
   "id": "ef408a10-f5e7-40d8-a4e2-132c7922e21e",
   "metadata": {},
   "outputs": [
    {
     "name": "stdin",
     "output_type": "stream",
     "text": [
      "Enter password:  abcd@1234\n"
     ]
    },
    {
     "name": "stdout",
     "output_type": "stream",
     "text": [
      "Password is not eligible\n"
     ]
    }
   ],
   "source": [
    "# Question 9. Write a Python program to check user password has following:\n",
    "# Whether the string contains any uppercase characters. Whether the string contains any lowercase\n",
    "# characters. Whether the string contains any spaces. Whether the string contains any special\n",
    "# characters (anything other than letters, digits, and spaces).\n",
    "\n",
    "userPassword = input(\"Enter password: \")\n",
    "\n",
    "if (not userPassword.isspace() and \n",
    "    any(char.islower() for char in userPassword) and \n",
    "    any(char.isupper() for char in userPassword) and \n",
    "    any(char.isdigit() for char in userPassword) and\n",
    "    userPassword.isascii()):\n",
    "    print(\"Password is eligible\")\n",
    "else:\n",
    "    print(\"Password is not eligible\")"
   ]
  },
  {
   "cell_type": "code",
   "execution_count": 127,
   "id": "7a0331a9-630a-4064-9b4c-159fc49c67aa",
   "metadata": {},
   "outputs": [
    {
     "name": "stdout",
     "output_type": "stream",
     "text": [
      "d programming\n"
     ]
    }
   ],
   "source": [
    "# Question 10: Find the Longest Word\n",
    "# Write a Python program that finds the longest word in a given string.\n",
    "# Example:\n",
    "# Input: \"I love programming in Python\"\n",
    "# Output: \"programming\"\n",
    "\n",
    "text = \"I love programming in Python\"\n",
    "convertingTextToArrayOfStrings = text.split();\n",
    "longestWord = \"\"\n",
    "\n",
    "for char in convertingTextToArrayOfStrings:\n",
    "    if len(char) > len(longestWord):\n",
    "        longestWord = char;\n",
    "\n",
    "print(\"d\",longestWord)"
   ]
  },
  {
   "cell_type": "code",
   "execution_count": null,
   "id": "4a96a45f-b491-4ebe-98c6-adebff169f33",
   "metadata": {},
   "outputs": [],
   "source": []
  }
 ],
 "metadata": {
  "kernelspec": {
   "display_name": "Python 3 (ipykernel)",
   "language": "python",
   "name": "python3"
  },
  "language_info": {
   "codemirror_mode": {
    "name": "ipython",
    "version": 3
   },
   "file_extension": ".py",
   "mimetype": "text/x-python",
   "name": "python",
   "nbconvert_exporter": "python",
   "pygments_lexer": "ipython3",
   "version": "3.12.7"
  }
 },
 "nbformat": 4,
 "nbformat_minor": 5
}
