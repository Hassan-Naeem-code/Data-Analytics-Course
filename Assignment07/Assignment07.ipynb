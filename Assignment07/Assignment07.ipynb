{
 "cells": [
  {
   "cell_type": "code",
   "execution_count": 21,
   "id": "3dec514d-d264-449f-a107-d875c11c4b17",
   "metadata": {},
   "outputs": [
    {
     "name": "stdout",
     "output_type": "stream",
     "text": [
      "Python Users: 21860\n",
      "R Users: 5335\n",
      "SQL Users: 10757\n",
      "Experience: 0.0 30.0 5.297231740653756\n",
      "Compensation: 0 1492951 53252.81696377007\n",
      "categories\n",
      "10-15 Years     80226.755814\n",
      "15-20 Years     75101.826941\n",
      "20-25 Years    103159.804324\n",
      "25+ Years       90444.985122\n",
      "5-10 Years      59312.820335\n",
      "< 5 Years       45047.874847\n",
      "Name: compensation, dtype: object\n"
     ]
    },
    {
     "name": "stderr",
     "output_type": "stream",
     "text": [
      "/var/folders/ls/f1w1__t136n76kp7mqywc6400000gn/T/ipykernel_5948/1213776468.py:17: FutureWarning: Setting an item of incompatible dtype is deprecated and will raise in a future error of pandas. Value '0        124267\n",
      "1        236889\n",
      "2         74321\n",
      "3         62593\n",
      "4         36288\n",
      "          ...  \n",
      "25968     15800\n",
      "25969     62456\n",
      "25970       923\n",
      "25971     60609\n",
      "25972       493\n",
      "Name: compensation, Length: 25973, dtype: object' has dtype incompatible with int64, please explicitly cast to a compatible dtype first.\n",
      "  dataset.iloc[:, 5] = dataset.iloc[:, 5].astype(str)  # Convert everything to string first\n"
     ]
    }
   ],
   "source": [
    "import pandas as pd\n",
    "\n",
    "file_name = \"compensation data.csv\"\n",
    "dataset = pd.read_csv(file_name)\n",
    "\n",
    "dataset.iloc[:, 0] = pd.to_numeric(dataset.iloc[:, 0], errors='coerce')\n",
    "\n",
    "dataset.iloc[:, 1:4] = dataset.iloc[:, 1:4].replace({'TRUE': True, 'FALSE': False})\n",
    "\n",
    "dataset.iloc[:, 4] = dataset.iloc[:, 4].replace('None', '')\n",
    "\n",
    "dataset.iloc[:, 5] = dataset.iloc[:, 5].astype(str) \n",
    "dataset.iloc[:, 5] = dataset.iloc[:, 5].str.replace(r'[^\\d.]', '', regex=True)  \n",
    "dataset.iloc[:, 5] = pd.to_numeric(dataset.iloc[:, 5], errors='coerce')  \n",
    "\n",
    "dataset = dataset.dropna(subset=[dataset.columns[0], dataset.columns[5]])\n",
    "\n",
    "python_user = dataset.iloc[:, 1].sum()\n",
    "r_user = dataset.iloc[:, 2].sum()\n",
    "sql_user = dataset.iloc[:, 3].sum()\n",
    "\n",
    "print(\"Python Users:\", python_user)\n",
    "print(\"R Users:\", r_user)\n",
    "print(\"SQL Users:\", sql_user)\n",
    "\n",
    "experience = dataset.iloc[:, 0].tolist()\n",
    "compensation = dataset.iloc[:, 5].tolist()\n",
    "\n",
    "print(\"Experience:\", min(experience), max(experience), sum(experience) / len(experience))\n",
    "print(\"Compensation:\", min(compensation), max(compensation), sum(compensation) / len(compensation))\n",
    "\n",
    "def experience_check(years):\n",
    "    if years < 5:\n",
    "        return \"< 5 Years\"\n",
    "    elif years < 10:\n",
    "        return \"5-10 Years\"\n",
    "    elif years < 15:\n",
    "        return \"10-15 Years\"\n",
    "    elif years < 20:\n",
    "        return \"15-20 Years\"\n",
    "    elif years < 25:\n",
    "        return \"20-25 Years\"\n",
    "    else:\n",
    "        return \"25+ Years\"\n",
    "\n",
    "dataset['categories'] = dataset.iloc[:, 0].apply(experience_check)\n",
    "\n",
    "avg_compensation = dataset.groupby('categories')[dataset.columns[5]].mean()\n",
    "print(avg_compensation)\n",
    "\n",
    "dataset.to_csv(\"updated_file.csv\", index=False)\n"
   ]
  }
 ],
 "metadata": {
  "kernelspec": {
   "display_name": "Python 3 (ipykernel)",
   "language": "python",
   "name": "python3"
  },
  "language_info": {
   "codemirror_mode": {
    "name": "ipython",
    "version": 3
   },
   "file_extension": ".py",
   "mimetype": "text/x-python",
   "name": "python",
   "nbconvert_exporter": "python",
   "pygments_lexer": "ipython3",
   "version": "3.12.7"
  }
 },
 "nbformat": 4,
 "nbformat_minor": 5
}
