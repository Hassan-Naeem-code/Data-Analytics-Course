{
 "cells": [
  {
   "cell_type": "markdown",
   "id": "9f740020-f880-47b3-b1be-b7e9dfb9a3f1",
   "metadata": {},
   "source": [
    "### QUIZ"
   ]
  },
  {
   "cell_type": "code",
   "execution_count": 73,
   "id": "8bd4b881-7ccb-46e5-b83f-af72bab6758e",
   "metadata": {},
   "outputs": [
    {
     "name": "stdout",
     "output_type": "stream",
     "text": [
      "******************** Welcome to QUIZ APP *****************************\n",
      "Question will be displayed along with 4 option user need to give the correct option in order to proceed\n",
      "Question: Who is the father of computer?\n",
      "Option 1: Charles Babage\n",
      "Option 2: Smith Carlos\n",
      "Option 3: Joseph Fredrick\n"
     ]
    },
    {
     "name": "stdin",
     "output_type": "stream",
     "text": [
      "Enter option number 1\n"
     ]
    },
    {
     "name": "stdout",
     "output_type": "stream",
     "text": [
      "Correct\n",
      "Question: Who invented programming?\n",
      "Option 1: Lewis Maxwell\n",
      "Option 2: Ada Lovelace\n",
      "Option 3: Greeme Swan\n"
     ]
    },
    {
     "name": "stdin",
     "output_type": "stream",
     "text": [
      "Enter option number 1\n"
     ]
    },
    {
     "name": "stdout",
     "output_type": "stream",
     "text": [
      "In-correct\n",
      "Question: Who invented python language?\n",
      "Option 1: Guido van Rossum\n",
      "Option 2: Alan Turing\n",
      "Option 3: Jenny Tames\n"
     ]
    },
    {
     "name": "stdin",
     "output_type": "stream",
     "text": [
      "Enter option number 1\n"
     ]
    },
    {
     "name": "stdout",
     "output_type": "stream",
     "text": [
      "Correct\n",
      "Question: Who invented www?\n",
      "Option 1: Fleece Alan\n",
      "Option 2: Tim Berners Lee\n",
      "Option 3: Smith Ownes\n"
     ]
    },
    {
     "name": "stdin",
     "output_type": "stream",
     "text": [
      "Enter option number 1\n"
     ]
    },
    {
     "name": "stdout",
     "output_type": "stream",
     "text": [
      "In-correct\n",
      "Question: Who developed the first high-level programming language?\n",
      "Option 1: Bjarne Stroustrup\n",
      "Option 2: Dennis Ritchie\n",
      "Option 3: John Backus\n"
     ]
    },
    {
     "name": "stdin",
     "output_type": "stream",
     "text": [
      "Enter option number 1\n"
     ]
    },
    {
     "name": "stdout",
     "output_type": "stream",
     "text": [
      "In-correct\n",
      "Question: Who invented the first video game?\n",
      "Option 1: Ralph Baer\n",
      "Option 2: William Higinbotham\n",
      "Option 3: Charles Babbage\n"
     ]
    },
    {
     "name": "stdin",
     "output_type": "stream",
     "text": [
      "Enter option number 1\n"
     ]
    },
    {
     "name": "stdout",
     "output_type": "stream",
     "text": [
      "In-correct\n",
      "Question: Who is known as the father of the computer science?\n",
      "Option 1: Alan Turing\n",
      "Option 2: John von Neumann\n",
      "Option 3: Charles Babbage\n"
     ]
    },
    {
     "name": "stdin",
     "output_type": "stream",
     "text": [
      "Enter option number 1\n"
     ]
    },
    {
     "name": "stdout",
     "output_type": "stream",
     "text": [
      "Correct\n",
      "Question: What does HTML stand for?\n",
      "Option 1: HyperText Model Language\n",
      "Option 2: HyperText Markup Language\n",
      "Option 3: HyperLink Markup Language\n"
     ]
    },
    {
     "name": "stdin",
     "output_type": "stream",
     "text": [
      "Enter option number 1\n"
     ]
    },
    {
     "name": "stdout",
     "output_type": "stream",
     "text": [
      "In-correct\n",
      "Question: Who is the creator of the first version of Linux?\n",
      "Option 1: Dennis Ritchie\n",
      "Option 2: Ken Thompson\n",
      "Option 3: Linus Torvalds\n"
     ]
    },
    {
     "name": "stdin",
     "output_type": "stream",
     "text": [
      "Enter option number 1\n"
     ]
    },
    {
     "name": "stdout",
     "output_type": "stream",
     "text": [
      "In-correct\n",
      "Question: Who invented the first computer virus?\n",
      "Option 1: Richard Skrenta\n",
      "Option 2: John McAfee\n",
      "Option 3: Steve Jobs\n"
     ]
    },
    {
     "name": "stdin",
     "output_type": "stream",
     "text": [
      "Enter option number 1\n"
     ]
    },
    {
     "name": "stdout",
     "output_type": "stream",
     "text": [
      "Correct\n",
      "Total Correct options are: 4 / 10\n",
      "******************** QUIZ ENDED *****************************\n"
     ]
    }
   ],
   "source": [
    "questions = [\n",
    "    {\n",
    "        \"question\": \"Who is the father of computer?\",\n",
    "        \"answers\": [\n",
    "            {\n",
    "                \"name\": \"Charles Babage\",\n",
    "                \"isCorrect\": True\n",
    "            },\n",
    "            {\n",
    "                \"name\": \"Smith Carlos\",\n",
    "                \"isCorrect\": False\n",
    "            },\n",
    "            {\n",
    "                \"name\": \"Joseph Fredrick\",\n",
    "                \"isCorrect\": False\n",
    "            },\n",
    "        ],\n",
    "    },\n",
    "    {\n",
    "        \"question\": \"Who invented programming?\",\n",
    "        \"answers\": [\n",
    "            {\n",
    "                \"name\": \"Lewis Maxwell\",\n",
    "                \"isCorrect\": False\n",
    "            },\n",
    "            {\n",
    "                \"name\": \"Ada Lovelace\",\n",
    "                \"isCorrect\": True\n",
    "            },\n",
    "            {\n",
    "                \"name\": \"Greeme Swan\",\n",
    "                \"isCorrect\": False\n",
    "            },\n",
    "        ],\n",
    "    },\n",
    "    {\n",
    "        \"question\": \"Who invented python language?\",\n",
    "        \"answers\": [\n",
    "            {\n",
    "                \"name\": \"Guido van Rossum\",\n",
    "                \"isCorrect\": True\n",
    "            },\n",
    "            {\n",
    "                \"name\": \"Alan Turing\",\n",
    "                \"isCorrect\": False\n",
    "            },\n",
    "            {\n",
    "                \"name\": \"Jenny Tames\",\n",
    "                \"isCorrect\": False\n",
    "            },\n",
    "        ],\n",
    "    },\n",
    "    {\n",
    "        \"question\": \"Who invented www?\",\n",
    "        \"answers\": [\n",
    "            {\n",
    "                \"name\": \"Fleece Alan\",\n",
    "                \"isCorrect\": False\n",
    "            },\n",
    "            {\n",
    "                \"name\": \"Tim Berners Lee\",\n",
    "                \"isCorrect\": True\n",
    "            },\n",
    "            {\n",
    "                \"name\": \"Smith Ownes\",\n",
    "                \"isCorrect\": False\n",
    "            },\n",
    "        ],\n",
    "    },\n",
    "    {\n",
    "        \"question\": \"Who developed the first high-level programming language?\",\n",
    "        \"answers\": [\n",
    "            {\n",
    "                \"name\": \"Bjarne Stroustrup\",\n",
    "                \"isCorrect\": False\n",
    "            },\n",
    "            {\n",
    "                \"name\": \"Dennis Ritchie\",\n",
    "                \"isCorrect\": False\n",
    "            },\n",
    "            {\n",
    "                \"name\": \"John Backus\",\n",
    "                \"isCorrect\": True\n",
    "            },\n",
    "        ],\n",
    "    },\n",
    "    {\n",
    "        \"question\": \"Who invented the first video game?\",\n",
    "        \"answers\": [\n",
    "            {\n",
    "                \"name\": \"Ralph Baer\",\n",
    "                \"isCorrect\": False\n",
    "            },\n",
    "            {\n",
    "                \"name\": \"William Higinbotham\",\n",
    "                \"isCorrect\": True\n",
    "            },\n",
    "            {\n",
    "                \"name\": \"Charles Babbage\",\n",
    "                \"isCorrect\": False\n",
    "            },\n",
    "        ],\n",
    "    },\n",
    "    {\n",
    "        \"question\": \"Who is known as the father of the computer science?\",\n",
    "        \"answers\": [\n",
    "            {\n",
    "                \"name\": \"Alan Turing\",\n",
    "                \"isCorrect\": True\n",
    "            },\n",
    "            {\n",
    "                \"name\": \"John von Neumann\",\n",
    "                \"isCorrect\": False\n",
    "            },\n",
    "            {\n",
    "                \"name\": \"Charles Babbage\",\n",
    "                \"isCorrect\": False\n",
    "            },\n",
    "        ],\n",
    "    },\n",
    "    {\n",
    "        \"question\": \"What does HTML stand for?\",\n",
    "        \"answers\": [\n",
    "            {\n",
    "                \"name\": \"HyperText Model Language\",\n",
    "                \"isCorrect\": False\n",
    "            },\n",
    "            {\n",
    "                \"name\": \"HyperText Markup Language\",\n",
    "                \"isCorrect\": True\n",
    "            },\n",
    "            {\n",
    "                \"name\": \"HyperLink Markup Language\",\n",
    "                \"isCorrect\": False\n",
    "            },\n",
    "        ],\n",
    "    },\n",
    "    {\n",
    "        \"question\": \"Who is the creator of the first version of Linux?\",\n",
    "        \"answers\": [\n",
    "            {\n",
    "                \"name\": \"Dennis Ritchie\",\n",
    "                \"isCorrect\": False\n",
    "            },\n",
    "            {\n",
    "                \"name\": \"Ken Thompson\",\n",
    "                \"isCorrect\": False\n",
    "            },\n",
    "             {\n",
    "                \"name\": \"Linus Torvalds\",\n",
    "                \"isCorrect\": True\n",
    "            },\n",
    "        ],\n",
    "    },\n",
    "    {\n",
    "        \"question\": \"Who invented the first computer virus?\",\n",
    "        \"answers\": [\n",
    "            {\n",
    "                \"name\": \"Richard Skrenta\",\n",
    "                \"isCorrect\": True\n",
    "            },\n",
    "            {\n",
    "                \"name\": \"John McAfee\",\n",
    "                \"isCorrect\": False\n",
    "            },\n",
    "            {\n",
    "                \"name\": \"Steve Jobs\",\n",
    "                \"isCorrect\": False\n",
    "            },\n",
    "        ],\n",
    "    }\n",
    "];\n",
    "\n",
    "totalCorrectAnswers = 0;\n",
    "\n",
    "\n",
    "def iterateUserResult ():\n",
    "    global totalCorrectAnswers;\n",
    "    totalCorrectAnswers += 1;\n",
    "\n",
    "def startQuiz ():\n",
    "    \n",
    "    for iteration in questions:\n",
    "        print(f'Question: {iteration['question']}')\n",
    "        for index in range(len(iteration[\"answers\"])):\n",
    "            print(f'Option {index + 1}: {iteration[\"answers\"][index][\"name\"]}')\n",
    "            \n",
    "        userInput = int(input(\"Enter option number\"));\n",
    "        \n",
    "        if iteration[\"answers\"][userInput - 1]['isCorrect']:\n",
    "            iterateUserResult();\n",
    "            print(\"Correct\");\n",
    "        else:\n",
    "            print(\"In-correct\");\n",
    "            \n",
    "    print(f'Total Correct options are: {totalCorrectAnswers} / 10');\n",
    "\n",
    "\n",
    "print(\"******************** Welcome to QUIZ APP *****************************\")\n",
    "print(\"Question will be displayed along with 4 option user need to give the correct option in order to proceed\");\n",
    "startQuiz();\n",
    "print(\"******************** QUIZ ENDED *****************************\")"
   ]
  },
  {
   "cell_type": "code",
   "execution_count": null,
   "id": "207b0dad-3544-4019-ae8a-e3021aed9a28",
   "metadata": {},
   "outputs": [],
   "source": []
  }
 ],
 "metadata": {
  "kernelspec": {
   "display_name": "Python 3 (ipykernel)",
   "language": "python",
   "name": "python3"
  },
  "language_info": {
   "codemirror_mode": {
    "name": "ipython",
    "version": 3
   },
   "file_extension": ".py",
   "mimetype": "text/x-python",
   "name": "python",
   "nbconvert_exporter": "python",
   "pygments_lexer": "ipython3",
   "version": "3.12.7"
  }
 },
 "nbformat": 4,
 "nbformat_minor": 5
}
