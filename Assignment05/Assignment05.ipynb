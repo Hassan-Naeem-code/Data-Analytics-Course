{
 "cells": [
  {
   "cell_type": "markdown",
   "id": "25d65f73-54fd-4212-bd9f-06ed225f2f1b",
   "metadata": {},
   "source": [
    "### Assignment 05"
   ]
  },
  {
   "cell_type": "code",
   "execution_count": 9,
   "id": "721223d4-6305-4832-92dc-f91d68cd3b99",
   "metadata": {},
   "outputs": [
    {
     "name": "stdout",
     "output_type": "stream",
     "text": [
      "The sum is: 3\n"
     ]
    }
   ],
   "source": [
    "# 1. Write a Python function called add_numbers that takes two numbers as arguments and returns their sum. Then, test the function by calling it with two numbers of your choice.\n",
    "\n",
    "def add_numbers (firstNumber, secondNumber):\n",
    "    return firstNumber + secondNumber;\n",
    "\n",
    "result = add_numbers(1, 2)\n",
    "print(\"The sum is:\", result)"
   ]
  },
  {
   "cell_type": "code",
   "execution_count": 21,
   "id": "8d251f84-9b6f-4898-8503-bf07f8def589",
   "metadata": {},
   "outputs": [
    {
     "name": "stdout",
     "output_type": "stream",
     "text": [
      "Vowels count 3\n"
     ]
    }
   ],
   "source": [
    "# 2. Write a Python function count_vowels that accepts a string and returns the number of vowels (a, e, i, o, u) in that string.\n",
    "# - Example: 'Orange'\n",
    "# - Output: 3 vowels\n",
    "\n",
    "def count_vowels (wordString):\n",
    "    vowels = \"aeiouAEIOU\"\n",
    "    vowelsCount = 0\n",
    "    for char in wordString:\n",
    "        if char in vowels:\n",
    "            vowelsCount += 1\n",
    "    return vowelsCount\n",
    "\n",
    "vowelsCount = count_vowels(\"programming\")\n",
    "print(\"Vowels count\", vowelsCount)"
   ]
  },
  {
   "cell_type": "code",
   "execution_count": 33,
   "id": "30f180c5-1f57-4295-87d8-c99859149ebe",
   "metadata": {},
   "outputs": [
    {
     "name": "stdout",
     "output_type": "stream",
     "text": [
      "Amount is: 335040.0 PKR\n"
     ]
    }
   ],
   "source": [
    "# 3. Create a Python function called currency_converter() that takes two arguments:\n",
    "\n",
    "# - amount: The amount of money to be converted (in USD).\n",
    "# - exchange_rate (default is 280): The conversion rate from USD to another currency (e.g., PKR). You can assume the default rate is 1 USD = 280 PKR.\n",
    "\n",
    "# The function should return a message showing how much the given amount is worth in the target currency (PKR).\n",
    "\n",
    "\n",
    "def currency_converter(amount, exchange_rate):\n",
    "    amountAfterConversion = amount * exchange_rate\n",
    "    return f\"Amount is: {amountAfterConversion} PKR\"\n",
    "\n",
    "result = currency_converter(1200, 279.2);\n",
    "\n",
    "print(result)"
   ]
  },
  {
   "cell_type": "code",
   "execution_count": 35,
   "id": "a9f08da0-b24c-4a74-8842-85cccd12284b",
   "metadata": {},
   "outputs": [
    {
     "name": "stdout",
     "output_type": "stream",
     "text": [
      "Student Name: Kavi\n",
      "Student Age: 13\n",
      "Student Grade: 5\n",
      "Student School: Saint Lous School\n"
     ]
    }
   ],
   "source": [
    "# 4. Write a Python function display_student_info that accepts the following details about a student:\n",
    "\n",
    "# - name (Keyword argument): The name of the student.\n",
    "# - age (Keyword argument): The age of the student.\n",
    "# - grade (Keyword argument): The grade the student is in.\n",
    "# - school (Keyword argument): The name of the school the student attends.\n",
    "\n",
    "\n",
    "def display_student_info (name, age, grade, school):\n",
    "    print(f\"Student Name: {name}\");\n",
    "    print(f\"Student Age: {age}\");\n",
    "    print(f\"Student Grade: {grade}\");\n",
    "    print(f\"Student School: {school}\");\n",
    "\n",
    "display_student_info(\"Kavi\", 13, 5, \"Saint Lous School\");"
   ]
  },
  {
   "cell_type": "code",
   "execution_count": 37,
   "id": "0ce1c3a5-48d6-4d2a-994f-49d66dacc1e2",
   "metadata": {},
   "outputs": [
    {
     "data": {
      "text/plain": [
       "'Total price: 200'"
      ]
     },
     "execution_count": 37,
     "metadata": {},
     "output_type": "execute_result"
    }
   ],
   "source": [
    "# 5. Write a Python function calculate_price that accepts two positional arguments:\n",
    "\n",
    "# - price: The price of a single item.\n",
    "# - quantity: The number of items bought.\n",
    "# - The function should return the total price by multiplying price and quantity.\n",
    "\n",
    "def calculate_price(price, quantity):\n",
    "    finalPrice = price * quantity;\n",
    "    return f\"Total price: {finalPrice}\"\n",
    "\n",
    "calculate_price(100, 2)"
   ]
  },
  {
   "cell_type": "code",
   "execution_count": 39,
   "id": "eb9e9986-243c-4ee5-8400-2988ac9f38ee",
   "metadata": {},
   "outputs": [
    {
     "name": "stdout",
     "output_type": "stream",
     "text": [
      "Product: Laptop\n",
      "- Amazon: $800\n",
      "- eBay: $750\n",
      "- Walmart: $780\n"
     ]
    }
   ],
   "source": [
    "# 6. Write a Python function display_prices that takes a product name and an arbitrary number of keyword arguments representing product prices. The function should display each product and its price.\n",
    "\n",
    "# - Product: Laptop\n",
    "# - Amazon: $800\n",
    "\n",
    "# - eBay: $750\n",
    "  \n",
    "# - Walmart: $780\n",
    "\n",
    "def display_prices(product_name, **prices):\n",
    "    print(f\"Product: {product_name}\")\n",
    "    print(f\"Product: {product_name}\")\n",
    "    for store, price in prices.items():\n",
    "        print(f\"- {store}: ${price}\")\n",
    "\n",
    "display_prices(\n",
    "    \"Laptop\",\n",
    "    Amazon=800,\n",
    "    eBay=750,\n",
    "    Walmart=780\n",
    ")\n",
    "\n"
   ]
  },
  {
   "cell_type": "code",
   "execution_count": 41,
   "id": "9ade67c3-d0be-44ab-87c9-736ec95e7f21",
   "metadata": {},
   "outputs": [
    {
     "name": "stdout",
     "output_type": "stream",
     "text": [
      "The maximum number is: 42\n"
     ]
    }
   ],
   "source": [
    "# 7. Write a Python function find_max that takes any number of numerical arguments and returns the maximum number.\n",
    "\n",
    "def find_max(*numbers):\n",
    "    if not numbers:\n",
    "        return \"Number not provided\"\n",
    "    return max(numbers);\n",
    "\n",
    "result = find_max(10, 20, 5, 42, 17)\n",
    "print(f\"The maximum number is: {result}\")"
   ]
  },
  {
   "cell_type": "code",
   "execution_count": 43,
   "id": "33a1d4db-2119-432b-8f2f-b9dbb1f977bd",
   "metadata": {},
   "outputs": [
    {
     "name": "stdout",
     "output_type": "stream",
     "text": [
      "Name: Joseph\n",
      "Age: 30\n",
      "Other Details:\n",
      "    - address: Khi Pak\n",
      "    - phone: 123-456-7890\n",
      "    - email: xyz@example.com\n"
     ]
    }
   ],
   "source": [
    "# 8. Write a Python function display_info that takes:\n",
    "\n",
    "# - Positional arguments for the name and age of a person.\n",
    "# - Keyword arguments for other personal details like address, phone number, and email.\n",
    "\n",
    "# Example Output:\n",
    "\n",
    "# - Name: Alice\n",
    "# - Age: 30\n",
    "# - Other Details:\n",
    "#     - address: 123 Main St\n",
    "#     - phone: 123-456-7890\n",
    "#     - email: alice@example.com\n",
    "\n",
    "def display_info(name, age, **details):\n",
    "    print(f\"Name: {name}\")\n",
    "    print(f\"Age: {age}\")\n",
    "    if details:\n",
    "        print(\"Other Details:\")\n",
    "        for key, value in details.items():\n",
    "            print(f\"    - {key}: {value}\")\n",
    "\n",
    "display_info(\n",
    "    \"Joseph\",\n",
    "    30,\n",
    "    address=\"Khi Pak\",\n",
    "    phone=\"123-456-7890\",\n",
    "    email=\"xyz@example.com\"\n",
    ")"
   ]
  },
  {
   "cell_type": "code",
   "execution_count": 45,
   "id": "3c93166f-a035-4964-b6bc-a3baab4197c3",
   "metadata": {},
   "outputs": [
    {
     "name": "stdout",
     "output_type": "stream",
     "text": [
      "Rectangle Area: 200\n",
      "Rectangle Perimeter: 60\n"
     ]
    }
   ],
   "source": [
    "# 9. Write a Python function calculate_rectangle that accepts the length and width of a rectangle as arguments. Inside this function, create two nested functions:\n",
    "\n",
    "# - calculate_area: This function should calculate the area of the rectangle.\n",
    "# - calculate_perimeter: This function should calculate the perimeter of the rectangle.\n",
    "# - The main function should return both the area and the perimeter of the rectangle.\n",
    "\n",
    "def calculate_rectangle(length, width):\n",
    "    def calculate_area():\n",
    "        return length * width\n",
    "    def calculate_perimeter():\n",
    "        return 2 * (length + width)\n",
    "    return calculate_area(), calculate_perimeter()\n",
    "\n",
    "area, perimeter = calculate_rectangle(20, 10)\n",
    "print(f\"Rectangle Area: {area}\")\n",
    "print(f\"Rectangle Perimeter: {perimeter}\")"
   ]
  },
  {
   "cell_type": "code",
   "execution_count": 47,
   "id": "bf60c3a4-31a9-4d66-8727-a5994c784cb5",
   "metadata": {},
   "outputs": [
    {
     "name": "stdout",
     "output_type": "stream",
     "text": [
      "In-stock product names: ['Laptop', 'Headphones', 'Smartwatch', 'Keyboard']\n",
      "Discounted prices: [('Laptop', 1080.0), ('Headphones', 120.0), ('Smartwatch', 300), ('Keyboard', 85.0)]\n"
     ]
    }
   ],
   "source": [
    "# Q 10.\n",
    "\n",
    "# products = [\n",
    "#     {\"name\": \"Laptop\", \"price\": 1200, \"in_stock\": True, \"discount\": 0.1},\n",
    "#     {\"name\": \"Smartphone\", \"price\": 800, \"in_stock\": False, \"discount\": 0.05},\n",
    "#     {\"name\": \"Headphones\", \"price\": 150, \"in_stock\": True, \"discount\": 0.2},\n",
    "#     {\"name\": \"Smartwatch\", \"price\": 300, \"in_stock\": True, \"discount\": 0},\n",
    "#     {\"name\": \"Keyboard\", \"price\": 100, \"in_stock\": True, \"discount\": 0.15}\n",
    "# ]\n",
    "\n",
    "# - Get names of in-stock products:\n",
    "\n",
    "#   *Use list comprehension to generate a list of names for the products that are in stock.\n",
    "                                            \n",
    "# - Calculate final prices for in-stock products after discount:\n",
    "\n",
    "#     *For products that have a discount, calculate the final price by applying the discount.\n",
    "\n",
    "  \n",
    "#     *For products with no discount, keep the original price.\n",
    "                                            \n",
    "# - Generate a list of tuples with the product name and its final price.\n",
    "\n",
    "# Example Output:\n",
    "\n",
    "# - In-stock product names: ['Laptop', 'Headphones', 'Smartwatch', 'Keyboard']\n",
    "# - Discounted prices: [('Laptop', 1080.0), ('Headphones', 120.0), ('Smartwatch', 300), ('Keyboard', 85.0)]\n",
    "\n",
    "\n",
    "products = [\n",
    "    {\"name\": \"Laptop\", \"price\": 1200, \"in_stock\": True, \"discount\": 0.1},\n",
    "    {\"name\": \"Smartphone\", \"price\": 800, \"in_stock\": False, \"discount\": 0.05},\n",
    "    {\"name\": \"Headphones\", \"price\": 150, \"in_stock\": True, \"discount\": 0.2},\n",
    "    {\"name\": \"Smartwatch\", \"price\": 300, \"in_stock\": True, \"discount\": 0},\n",
    "    {\"name\": \"Keyboard\", \"price\": 100, \"in_stock\": True, \"discount\": 0.15}\n",
    "]\n",
    "\n",
    "in_stock_names = [product[\"name\"] for product in products if product[\"in_stock\"]]\n",
    "\n",
    "discounted_prices = [\n",
    "    (product[\"name\"], product[\"price\"] * (1 - product[\"discount\"]) if product[\"discount\"] > 0 else product[\"price\"])\n",
    "    for product in products if product[\"in_stock\"]\n",
    "]\n",
    "\n",
    "print(f\"In-stock product names: {in_stock_names}\")\n",
    "print(f\"Discounted prices: {discounted_prices}\")\n"
   ]
  }
 ],
 "metadata": {
  "kernelspec": {
   "display_name": "Python 3 (ipykernel)",
   "language": "python",
   "name": "python3"
  },
  "language_info": {
   "codemirror_mode": {
    "name": "ipython",
    "version": 3
   },
   "file_extension": ".py",
   "mimetype": "text/x-python",
   "name": "python",
   "nbconvert_exporter": "python",
   "pygments_lexer": "ipython3",
   "version": "3.12.7"
  }
 },
 "nbformat": 4,
 "nbformat_minor": 5
}
