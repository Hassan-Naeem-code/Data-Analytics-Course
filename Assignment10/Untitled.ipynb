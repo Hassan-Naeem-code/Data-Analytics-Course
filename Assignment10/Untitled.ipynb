{
 "cells": [
  {
   "cell_type": "markdown",
   "id": "e5535c11-ca25-40a6-8f9b-6712bcf587d0",
   "metadata": {},
   "source": [
    "Assignment 10"
   ]
  },
  {
   "cell_type": "code",
   "execution_count": null,
   "id": "68132478-e206-4a7c-bf20-6b9e8830cc16",
   "metadata": {},
   "outputs": [],
   "source": [
    "# List all cities where the area is greater than 5000, along with their population."
   ]
  },
  {
   "cell_type": "code",
   "execution_count": null,
   "id": "ae1b4e1b-8a8e-4767-809e-7fafa3ffd979",
   "metadata": {},
   "outputs": [],
   "source": [
    "# List the names of capital cities where the death rate is greater than 2% and the\n",
    "# birth rate is less than 20%"
   ]
  },
  {
   "cell_type": "code",
   "execution_count": null,
   "id": "e6c4f6cd-b3e6-4fcc-bece-11d4894f5d9d",
   "metadata": {},
   "outputs": [],
   "source": [
    "# List the cities with a population growth rate between 1% and 5%, sorted in desc\n",
    "# by population growth."
   ]
  },
  {
   "cell_type": "code",
   "execution_count": null,
   "id": "314d0087-c65e-45eb-bde8-94354769c545",
   "metadata": {},
   "outputs": [],
   "source": [
    "# Find countries that start with &quot;A&quot; and do not have any cities listed in the cities\n",
    "# table. The query should return the country name and city name. Using left join"
   ]
  },
  {
   "cell_type": "code",
   "execution_count": null,
   "id": "c61971dc-9c26-4306-be7f-64830ab34338",
   "metadata": {},
   "outputs": [],
   "source": [
    "# List all capital cities and their corresponding death rate using a LEFT JOIN."
   ]
  }
 ],
 "metadata": {
  "kernelspec": {
   "display_name": "Python 3 (ipykernel)",
   "language": "python",
   "name": "python3"
  },
  "language_info": {
   "codemirror_mode": {
    "name": "ipython",
    "version": 3
   },
   "file_extension": ".py",
   "mimetype": "text/x-python",
   "name": "python",
   "nbconvert_exporter": "python",
   "pygments_lexer": "ipython3",
   "version": "3.12.7"
  }
 },
 "nbformat": 4,
 "nbformat_minor": 5
}
