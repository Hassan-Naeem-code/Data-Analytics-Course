{
 "cells": [
  {
   "cell_type": "markdown",
   "id": "cc45e5cf-9f95-4513-b397-423cf492c52a",
   "metadata": {},
   "source": [
    "### Assignment 03"
   ]
  },
  {
   "cell_type": "code",
   "execution_count": 6,
   "id": "8ea88cd8-5fa8-4405-a6f2-b44342d182bd",
   "metadata": {},
   "outputs": [
    {
     "name": "stdout",
     "output_type": "stream",
     "text": [
      "Welcome to loan bank\n"
     ]
    },
    {
     "name": "stdin",
     "output_type": "stream",
     "text": [
      "Enter your age:  17\n",
      "Enter your credit score:  440\n",
      "Enter your income:  2311\n"
     ]
    },
    {
     "name": "stdout",
     "output_type": "stream",
     "text": [
      "Age must be at least 18 in order to be eligible for loan\n"
     ]
    }
   ],
   "source": [
    "# Q1. Write program to check a person’s eligibility for a loan based on age, credit score, and income. This time, the\n",
    "# eligibility criteria will be:\n",
    "\n",
    "# The person must be 18 years or older. The person must have a credit score of 650 or higher. The person must have\n",
    "# an annual income of at least 30000 dollars If the person has a credit score of 700 or higher, they may still be eligible\n",
    "# with an income of 25000 dollars or more.\n",
    "\n",
    "\n",
    "print(\"Welcome to loan bank\");\n",
    "\n",
    "userAge = int(input(\"Enter your age: \"));\n",
    "userCreditScore = float(input(\"Enter your credit score: \"));\n",
    "userAnnualIncome = float(input(\"Enter your income: \"));\n",
    "\n",
    "if userAge >= 18:\n",
    "    if (userCreditScore >= 700 and userAnnualIncome >= 25000) or (userCreditScore >= 650 and userAnnualIncome >= 30000):\n",
    "        print(\"Eligible for loan\");\n",
    "    else:\n",
    "        print(\"Not Eligible for loan\");\n",
    "else:\n",
    "    print(\"Age must be at least 18 in order to be eligible for loan\");"
   ]
  },
  {
   "cell_type": "code",
   "execution_count": null,
   "id": "0ae01bc8-6749-4379-a2e9-60e41ad510f4",
   "metadata": {},
   "outputs": [],
   "source": [
    "# Q2. Write a Python program that checks if a person is an adult (age ≥ 18).\n",
    "\n",
    "# Take the age as input.\n",
    "# If the person is underage (age < 18), show message: \"You are underage\" and don't ask for experience.\n",
    "\n",
    "# If the person is an adult, take years of experience as input and print:\n",
    "# \"You have a lot of experience.\" (10+ years)\n",
    "# \"You have moderate experience.\" (5-9 years)\n",
    "# \"You are relatively new.\" (2-4 years)\n",
    "# \"You are just starting out.\" (less than 2 years)\n",
    "\n",
    "userAge = int(input(\"Enter your age: \"));\n",
    "\n",
    "if userAge < 18:\n",
    "    print(\"You are underage\");\n",
    "else:\n",
    "    userExperience = float(input(\"Enter your experience\"));\n",
    "    if userExperience\n",
    "\n"
   ]
  }
 ],
 "metadata": {
  "kernelspec": {
   "display_name": "Python 3 (ipykernel)",
   "language": "python",
   "name": "python3"
  },
  "language_info": {
   "codemirror_mode": {
    "name": "ipython",
    "version": 3
   },
   "file_extension": ".py",
   "mimetype": "text/x-python",
   "name": "python",
   "nbconvert_exporter": "python",
   "pygments_lexer": "ipython3",
   "version": "3.12.7"
  }
 },
 "nbformat": 4,
 "nbformat_minor": 5
}
