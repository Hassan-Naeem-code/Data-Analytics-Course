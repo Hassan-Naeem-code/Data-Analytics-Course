{
 "cells": [
  {
   "cell_type": "markdown",
   "id": "cc45e5cf-9f95-4513-b397-423cf492c52a",
   "metadata": {},
   "source": [
    "### Assignment 03"
   ]
  },
  {
   "cell_type": "code",
   "execution_count": 6,
   "id": "8ea88cd8-5fa8-4405-a6f2-b44342d182bd",
   "metadata": {},
   "outputs": [
    {
     "name": "stdout",
     "output_type": "stream",
     "text": [
      "Welcome to loan bank\n"
     ]
    },
    {
     "name": "stdin",
     "output_type": "stream",
     "text": [
      "Enter your age:  17\n",
      "Enter your credit score:  440\n",
      "Enter your income:  2311\n"
     ]
    },
    {
     "name": "stdout",
     "output_type": "stream",
     "text": [
      "Age must be at least 18 in order to be eligible for loan\n"
     ]
    }
   ],
   "source": [
    "# Q1. Write program to check a person’s eligibility for a loan based on age, credit score, and income. This time, the\n",
    "# eligibility criteria will be:\n",
    "\n",
    "# The person must be 18 years or older. The person must have a credit score of 650 or higher. The person must have\n",
    "# an annual income of at least 30000 dollars If the person has a credit score of 700 or higher, they may still be eligible\n",
    "# with an income of 25000 dollars or more.\n",
    "\n",
    "\n",
    "print(\"Welcome to loan bank\");\n",
    "\n",
    "userAge = int(input(\"Enter your age: \"));\n",
    "userCreditScore = float(input(\"Enter your credit score: \"));\n",
    "userAnnualIncome = float(input(\"Enter your income: \"));\n",
    "\n",
    "if userAge >= 18:\n",
    "    if (userCreditScore >= 700 and userAnnualIncome >= 25000) or (userCreditScore >= 650 and userAnnualIncome >= 30000):\n",
    "        print(\"Eligible for loan\");\n",
    "    else:\n",
    "        print(\"Not Eligible for loan\");\n",
    "else:\n",
    "    print(\"Age must be at least 18 in order to be eligible for loan\");"
   ]
  },
  {
   "cell_type": "code",
   "execution_count": 8,
   "id": "0ae01bc8-6749-4379-a2e9-60e41ad510f4",
   "metadata": {},
   "outputs": [
    {
     "name": "stdin",
     "output_type": "stream",
     "text": [
      "Enter your age:  19\n",
      "Enter your years of experience:  5\n"
     ]
    },
    {
     "name": "stdout",
     "output_type": "stream",
     "text": [
      "You have moderate experience.\n"
     ]
    }
   ],
   "source": [
    "# Q2. Write a Python program that checks if a person is an adult (age ≥ 18).\n",
    "\n",
    "# Take the age as input.\n",
    "# If the person is underage (age < 18), show message: \"You are underage\" and don't ask for experience.\n",
    "\n",
    "# If the person is an adult, take years of experience as input and print:\n",
    "# \"You have a lot of experience.\" (10+ years)\n",
    "# \"You have moderate experience.\" (5-9 years)\n",
    "# \"You are relatively new.\" (2-4 years)\n",
    "# \"You are just starting out.\" (less than 2 years)\n",
    "\n",
    "userAge = int(input(\"Enter your age: \"));\n",
    "\n",
    "if userAge < 18:\n",
    "    print(\"You are underage.\")\n",
    "else:\n",
    "    userExperience = float(input(\"Enter your years of experience: \"))\n",
    "    \n",
    "    if userExperience >= 10:\n",
    "        print(\"You have a lot of experience.\")\n",
    "    elif 5 <= userExperience < 10:\n",
    "        print(\"You have moderate experience.\")\n",
    "    elif 2 <= userExperience < 5:\n",
    "        print(\"You are relatively new.\")\n",
    "    else:  \n",
    "        print(\"You are just starting out.\")"
   ]
  },
  {
   "cell_type": "code",
   "execution_count": null,
   "id": "260c00e4-24a3-4989-9c97-104936eeb3ff",
   "metadata": {},
   "outputs": [],
   "source": [
    "# Q3. Write a program to explore below variables\n",
    "\n",
    "# a) Print their memory address (to check if python assigns same address of different variables having same element)\n",
    "# b) Find memory size and append them in a list, use this list to find data type having least memory size\n",
    "# c) Print final name of data type which has lowest memory\n",
    "# Result will help a programmer to decide which variable is storing less memory and variable locations\n",
    "\n"
   ]
  },
  {
   "cell_type": "code",
   "execution_count": 18,
   "id": "f51eac7c-061c-45d2-8584-dbaff45c8238",
   "metadata": {},
   "outputs": [
    {
     "name": "stdin",
     "output_type": "stream",
     "text": [
      "Enter email-address:  a@a.com\n"
     ]
    },
    {
     "name": "stdout",
     "output_type": "stream",
     "text": [
      "Email format is valid.\n"
     ]
    }
   ],
   "source": [
    "# Q4. Write a Python program that asks the user to enter an email address. The program should check if the email\n",
    "# contains the characters @ and \".\" (ignoring case). If either character is present, print \"Email format is valid.\"\n",
    "# Otherwise, print \"Invalid email format.\"\n",
    "\n",
    "userEmail = input(\"Enter email-address: \").lower();\n",
    "\n",
    "if \"@\" in userEmail and \".\" in userEmail:\n",
    "    print(\"Email format is valid.\")\n",
    "else:\n",
    "    print(\"Invalid email format.\")"
   ]
  },
  {
   "cell_type": "code",
   "execution_count": 22,
   "id": "5e16d3fe-493f-4631-853a-a1f72c8bab20",
   "metadata": {},
   "outputs": [
    {
     "name": "stdout",
     "output_type": "stream",
     "text": [
      "Data types are: ['int', 'float', 'str', 'list', 'tuple']\n"
     ]
    }
   ],
   "source": [
    "# Q5. Write a python program to know data type of each element stored in a tuple, append the data types in a list.\n",
    "# Show final output in a list as data types of tuple elements\n",
    "\n",
    "x = (11,22.333,'apple',[1,2,3],('a','b'))\n",
    "\n",
    "allDataTypes = []\n",
    "\n",
    "for item in x:\n",
    "    allDataTypes.append(type(item).__name__)\n",
    "\n",
    "print(\"Data types are:\", allDataTypes)"
   ]
  },
  {
   "cell_type": "code",
   "execution_count": 30,
   "id": "13db636a-ed48-49d4-b43a-acac68cd5968",
   "metadata": {},
   "outputs": [
    {
     "name": "stdin",
     "output_type": "stream",
     "text": [
      "Enter the username:  bob\n"
     ]
    },
    {
     "name": "stdout",
     "output_type": "stream",
     "text": [
      "Username 'bob' exists in the list.\n",
      "User 'bob' is not the admin.\n"
     ]
    }
   ],
   "source": [
    "# Q6. Write a Python program that:\n",
    "# Checks if a given username exists in a list of active users.\n",
    "# Verifies if the user is the admin using identity operators.\n",
    "# Hints:\n",
    "# Use a list of tuples where each tuple contains a username and role\n",
    "# [(\"alice\", \"admin\"),\n",
    "# (\"bob\", \"user\"),\n",
    "# (\"charlie\", \"moderator\")]\n",
    "# Use the in operator to check if the username exists in the list.\n",
    "# Use the is operator to check if the user is the admin (admin is a specific reference, e.g., (\"alice\", \"admin\")).\n",
    "\n",
    "activeUsers = [(\"alice\", \"admin\"), (\"bob\", \"user\"), (\"charlie\", \"moderator\")]\n",
    "\n",
    "username = input(\"Enter the username: \")\n",
    "\n",
    "userFound = next((user for user in activeUsers if user[0] == username), None)\n",
    "\n",
    "if user_found:\n",
    "    print(f\"Username '{username}' exists in the list.\")\n",
    "    if user_found is active_users[0]:  \n",
    "        print(f\"User '{username}' is the admin.\")\n",
    "    else:\n",
    "        print(f\"User '{username}' is not the admin.\")\n",
    "else:\n",
    "    print(f\"Username '{username}' does not exist in the list.\")"
   ]
  },
  {
   "cell_type": "code",
   "execution_count": null,
   "id": "26d070e8-4b42-4aa9-9ebf-541b0065b5e0",
   "metadata": {},
   "outputs": [],
   "source": [
    "# Q7. person1 has same family as of person2, write a program to print relation between person1 and person2, if their\n",
    "# data is ['father name','mother name','district','family number'] same (Print relation 'Siblings') also check person1\n",
    "# data with person3 which is cousin of person1 (Print relation 'Cousin')\n",
    "# Hint:\n",
    "# Use identity operator\n",
    "\n",
    "person1 = ['John', 'Jane', 'Springfield', 'F123']\n",
    "person2 = ['John', 'Jane', 'Springfield', 'F123']\n",
    "person3 = ['Robert', 'Emily', 'Springfield', 'F456']\n",
    "\n",
    "if person1 is person2: \n",
    "    print(\"Person1 and Person2 are the same individual.\")\n",
    "elif person1 == person2:  \n",
    "    print(\"Person1 and Person2 are Siblings.\")\n",
    "else:\n",
    "    print(\"Person1 and Person2 are not related directly.\")\n",
    "\n",
    "if person1[-2] == person3[-2]:  \n",
    "    print(\"Person1 and Person3 are Cousins.\")\n",
    "else:\n",
    "    print(\"Person1 and Person3 are not Cousins.\")"
   ]
  },
  {
   "cell_type": "code",
   "execution_count": null,
   "id": "a487da5e-2531-46bd-9f69-bddba9e373ed",
   "metadata": {},
   "outputs": [],
   "source": []
  }
 ],
 "metadata": {
  "kernelspec": {
   "display_name": "Python 3 (ipykernel)",
   "language": "python",
   "name": "python3"
  },
  "language_info": {
   "codemirror_mode": {
    "name": "ipython",
    "version": 3
   },
   "file_extension": ".py",
   "mimetype": "text/x-python",
   "name": "python",
   "nbconvert_exporter": "python",
   "pygments_lexer": "ipython3",
   "version": "3.12.7"
  }
 },
 "nbformat": 4,
 "nbformat_minor": 5
}
