{
 "cells": [
  {
   "cell_type": "markdown",
   "id": "6171b079-c0d4-454d-9cc9-de888cd143c7",
   "metadata": {},
   "source": [
    "## Assignment 01"
   ]
  },
  {
   "cell_type": "code",
   "execution_count": 49,
   "id": "7521f43c-e01e-45bd-8f18-b4e088827bac",
   "metadata": {},
   "outputs": [
    {
     "name": "stdout",
     "output_type": "stream",
     "text": [
      "7\n",
      "50k\n",
      "40k\n",
      "['50k', '60k', '35k']\n",
      "['20k', '40k', '50k', '60k', '35k', '89k', '40k', '100k']\n",
      "['20k', '40k', '50k', '60k', '35k', '89k', '40k', '100k', '120k']\n",
      "['20k', '40k', '55k', '60k', '35k', '89k', '40k', '100k', '120k']\n",
      "2\n",
      "['20k', '10k', '40k', '55k', '60k', '35k', '89k', '40k', '100k', '120k']\n",
      "['120k', '100k', '40k', '89k', '35k', '60k', '55k', '40k', '10k', '20k']\n",
      "['20k', '10k', '40k', '55k', '60k', '35k', '89k', '40k', '100k', '120k']\n"
     ]
    }
   ],
   "source": [
    "salaries = [\"20k\", \"40k\", \"50k\", \"60k\", \"35k\", \"89k\",\"40k\"]\n",
    "\n",
    "# 1. What is the length of the salaries list.\n",
    "salariesLength = len(salaries);\n",
    "print(salariesLength);\n",
    "# 2. Retrieve the third salary in the list by using index.\n",
    "print(salaries[2]);\n",
    "# 3. Extract the last salary from the list by using a negative index.\n",
    "print(salaries[-1]);\n",
    "# 4. Slice the salaries list to get only the middle three salaries.\n",
    "print(salaries[2:5]);\n",
    "# 5. Add a new salary to the list, ‘100k’ by using append() method.\n",
    "salaries.append('100k');\n",
    "print(salaries);\n",
    "# 5. Add a new salary to the list, ‘120k’ without method.\n",
    "salaries += ['120k'];\n",
    "print(salaries);\n",
    "# 6. Replace the third salary in the list with '55k' and print the updated list.\n",
    "salaries[2] = '55k';\n",
    "print(salaries);\n",
    "# 7. Count how many times '40k' appears in the list.\n",
    "counting40kInTheList = salaries.count('40k');\n",
    "print(counting40kInTheList);\n",
    "# 8. Insert a new salary at the second position.\n",
    "salaries.insert(1, '10k');\n",
    "print(salaries);\n",
    "# 9. Reverse the order of the salaries list with method.\n",
    "salaries.reverse();\n",
    "print(salaries);\n",
    "# 10. Reverse the order of the salaries list without method.\n",
    "reversedSalaries = salaries[::-1]\n",
    "print(reversedSalaries);"
   ]
  },
  {
   "cell_type": "code",
   "execution_count": null,
   "id": "6886152a-82ab-4252-a1e6-ae5682cbcb5e",
   "metadata": {},
   "outputs": [],
   "source": []
  }
 ],
 "metadata": {
  "kernelspec": {
   "display_name": "Python 3 (ipykernel)",
   "language": "python",
   "name": "python3"
  },
  "language_info": {
   "codemirror_mode": {
    "name": "ipython",
    "version": 3
   },
   "file_extension": ".py",
   "mimetype": "text/x-python",
   "name": "python",
   "nbconvert_exporter": "python",
   "pygments_lexer": "ipython3",
   "version": "3.12.7"
  }
 },
 "nbformat": 4,
 "nbformat_minor": 5
}
